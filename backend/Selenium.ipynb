{
 "cells": [
  {
   "cell_type": "markdown",
   "metadata": {},
   "source": [
    "# Imports and Settings for Website"
   ]
  },
  {
   "cell_type": "code",
   "execution_count": 2,
   "metadata": {
    "scrolled": true
   },
   "outputs": [],
   "source": [
    "import os\n",
    "import selenium\n",
    "import time\n",
    "from PIL import Image\n",
    "import io\n",
    "import requests\n",
    "\n",
    "# download image\n",
    "import urllib.request\n",
    "\n",
    "from selenium import webdriver\n",
    "from selenium.webdriver.common.by import By\n",
    "from selenium.webdriver.common.keys import Keys\n",
    "from selenium.webdriver.support.ui import WebDriverWait\n",
    "from selenium.webdriver.support.expected_conditions import presence_of_element_located\n",
    "# Action chains is for complex mouse button actions\n",
    "from selenium.webdriver.common.action_chains import ActionChains\n",
    "\n",
    "import user\n",
    "qanvast_user = user.Qanvast['user']\n",
    "qanvast_pass = user.Qanvast['pass']"
   ]
  },
  {
   "cell_type": "markdown",
   "metadata": {},
   "source": [
    "## Set up Selenium for Chrome"
   ]
  },
  {
   "cell_type": "code",
   "execution_count": 4,
   "metadata": {},
   "outputs": [],
   "source": [
    "# Check About Chrome website version to download right selenium driver\n",
    "from selenium.webdriver import Chrome\n",
    "\n",
    "# # Set up incognito\n",
    "chrome_options = webdriver.ChromeOptions()\n",
    "\n",
    "chrome_options.add_argument(\"--incognito\")\n",
    "\n",
    "chrome_prefs = {}\n",
    "chrome_options.experimental_options[\"prefs\"] = chrome_prefs\n",
    "chrome_prefs[\"profile.default_content_settings\"] = {\"images\": 2}\n",
    "chrome_prefs[\"profile.managed_default_content_settings\"] = {\"images\": 2}\n",
    "\n",
    "driver = webdriver.Chrome('C:\\scrap\\chromedriver', options=chrome_options)\n",
    "\n",
    "# driver = webdriver.Chrome('C:\\scrap\\chromedriver')"
   ]
  },
  {
   "cell_type": "markdown",
   "metadata": {},
   "source": [
    "## Put in starting point of scrape"
   ]
  },
  {
   "cell_type": "code",
   "execution_count": 5,
   "metadata": {
    "scrolled": true
   },
   "outputs": [],
   "source": [
    "# Specify Search URL/Start Point\n",
    "search_url = \"https://qanvast.com/sg/interior-design-singapore\"\n",
    "driver.get(search_url)\n",
    "\n",
    "# Go to login\n",
    "login_page = WebDriverWait(driver, 10).until(presence_of_element_located((By.CLASS_NAME, \"_300aJmN3k9YoDqpg76oEXf\")))\n",
    "login_page.click()\n",
    "\n",
    "# Fill credentials\n",
    "login_user = driver.find_element_by_xpath(\"(//input[@class='_2vxAdHKMPYf8ByTMp5N_Jk'])[1]\")\n",
    "login_pass = driver.find_element_by_xpath(\"(//input[@class='_2vxAdHKMPYf8ByTMp5N_Jk'])[2]\")\n",
    "login_user.send_keys(qanvast_user)\n",
    "login_pass.send_keys(qanvast_pass)\n",
    "# Login\n",
    "driver.find_element_by_class_name(\"_3tOEYVFn9u8qPkn9P4lMVL\").click()\n",
    "WebDriverWait(driver, 3)\n",
    "# Go to first element\n",
    "first_box = driver.find_element_by_xpath(\"(//li[@class='slide selected'])\")\n",
    "ActionChains(driver).move_to_element(first_box).perform()\n",
    "first_box.click()\n"
   ]
  },
  {
   "cell_type": "markdown",
   "metadata": {},
   "source": [
    "### CHECKS  - Confirm touching the correct elements"
   ]
  },
  {
   "cell_type": "code",
   "execution_count": 17,
   "metadata": {},
   "outputs": [],
   "source": [
    "ul_box = driver.find_element_by_xpath(\"(/html/body/div[8]/div/div/div/div/div/div[2]/div[1]/div[2]/div/div/ul)\")"
   ]
  },
  {
   "cell_type": "code",
   "execution_count": 18,
   "metadata": {},
   "outputs": [
    {
     "name": "stdout",
     "output_type": "stream",
     "text": [
      "The Adara, The Roomakers, Modern, Contemporary, Bathroom, Condo\n",
      "https://d1hy6t2xeg0mdl.cloudfront.net/image/505545/f33edb6892/720-width\n",
      "The Adara, The Roomakers, Modern, Contemporary, Living Room, Condo\n",
      "https://d1hy6t2xeg0mdl.cloudfront.net/image/505548/2d45ff1ae6/720-width\n",
      "The Adara, The Roomakers, Modern, Contemporary, Living Room, Condo\n",
      "https://d1hy6t2xeg0mdl.cloudfront.net/image/505549/273f684b98/720-width\n",
      "The Adara, The Roomakers, Modern, Contemporary, Dining Room, Condo\n",
      "https://d1hy6t2xeg0mdl.cloudfront.net/image/505550/c597440882/720-width\n",
      "The Adara, The Roomakers, Modern, Contemporary, Bedroom, Condo\n",
      "https://d1hy6t2xeg0mdl.cloudfront.net/image/505546/75f559b856/720-width\n",
      "The Adara, The Roomakers, Modern, Contemporary, Bathroom, Condo\n",
      "https://d1hy6t2xeg0mdl.cloudfront.net/image/505545/f33edb6892/720-width\n",
      "The Adara, The Roomakers, Modern, Contemporary, Living Room, Condo\n",
      "https://d1hy6t2xeg0mdl.cloudfront.net/image/505548/2d45ff1ae6/720-width\n"
     ]
    }
   ],
   "source": [
    "curr_li = ul_box.find_elements_by_tag_name('li')\n",
    "n_steps = len(curr_li)\n",
    "\n",
    "# Extracting links of the images\n",
    "for i in range(n_steps):\n",
    "    li = curr_li[i]\n",
    "    per_li_div = li.find_elements_by_tag_name('div')[0]\n",
    "    try:\n",
    "        per_li_div_div = per_li_div.find_elements_by_tag_name('div')[0]\n",
    "    except:\n",
    "        continue\n",
    "    per_li = per_li_div_div.find_elements_by_tag_name('img')[0]\n",
    "    print(per_li.get_attribute('alt'))\n",
    "    print(per_li.get_attribute('src'))"
   ]
  },
  {
   "cell_type": "code",
   "execution_count": 16,
   "metadata": {},
   "outputs": [
    {
     "name": "stdout",
     "output_type": "stream",
     "text": [
      "Yishun Street 21, Metier Planner, Contemporary, Living Room, HDB\n",
      "https://d1hy6t2xeg0mdl.cloudfront.net/image/505643/3fe6277d90/standard\n",
      "Yishun Street 21, Metier Planner, Contemporary, Living Room, HDB\n",
      "https://d1hy6t2xeg0mdl.cloudfront.net/image/505643/3fe6277d90/standard\n"
     ]
    }
   ],
   "source": [
    "d = driver.find_element_by_xpath(\"(//div[@class='carousel carousel-slider'])\")\n",
    "e = d.find_element_by_xpath(\"(//div[@class='slider-wrapper axis-horizontal'])\")\n",
    "ul_box = e.find_element_by_xpath(\"(//ul[@class='slider animated'])\")\n",
    "curr_li = ul_box.find_elements_by_tag_name('li')\n",
    "n_steps = len(curr_li)\n",
    "\n",
    "proj = []\n",
    "# Extracting links of the images\n",
    "for i in range(n_steps):\n",
    "    li = curr_li[i]\n",
    "    per_li_div = li.find_elements_by_tag_name('div')[0]\n",
    "    try:\n",
    "        per_li_div_div = per_li_div.find_elements_by_tag_name('div')[0]\n",
    "    except:\n",
    "        continue\n",
    "    per_li = per_li_div_div.find_elements_by_tag_name('img')[0]\n",
    "    print(per_li.get_attribute('alt'))\n",
    "    print(per_li.get_attribute('src'))\n",
    "#     proj.append(temp)"
   ]
  },
  {
   "cell_type": "code",
   "execution_count": 152,
   "metadata": {},
   "outputs": [
    {
     "name": "stdout",
     "output_type": "stream",
     "text": [
      "transform: translate3d(-100%, 0px, 0px); transition-duration: 350ms;\n"
     ]
    }
   ],
   "source": [
    "print(ul_box.get_attribute('style'))"
   ]
  },
  {
   "cell_type": "markdown",
   "metadata": {},
   "source": [
    "# Start Scrape"
   ]
  },
  {
   "cell_type": "markdown",
   "metadata": {},
   "source": [
    "### Set Variables"
   ]
  },
  {
   "cell_type": "code",
   "execution_count": 14,
   "metadata": {},
   "outputs": [],
   "source": [
    "# Data Structures\n",
    "# unique = set()\n",
    "check_unique = False\n",
    "count = 1000\n",
    "room_types = [\"Balcony\", \"Bathroom\", \"Bedroom\", \"Commercial\", \"Dining Room\", \"Garden\", \"Kitchen\", \"Living Room\", \"Study\"]"
   ]
  },
  {
   "cell_type": "code",
   "execution_count": 9,
   "metadata": {},
   "outputs": [],
   "source": [
    "import ast\n",
    "unique = set()\n",
    "with open(\"id.txt\", \"r\") as f:\n",
    "    unique = ast.literal_eval(f.read())"
   ]
  },
  {
   "cell_type": "code",
   "execution_count": 40,
   "metadata": {},
   "outputs": [],
   "source": [
    "def extraction():\n",
    "    \"\"\" Function to extract all img links into a list\"\"\"\n",
    "    # Get the ul list\n",
    "    for _ in range(2):\n",
    "#         ### OUTDATED ULBOX\n",
    "#         d = driver.find_element_by_xpath(\"(//div[@class='carousel carousel-slider'])\")\n",
    "#         e = d.find_element_by_xpath(\"(//div[@class='slider-wrapper axis-horizontal'])\")\n",
    "#         ul_box = e.find_element_by_xpath(\"(//ul[@class='slider animated'])\")\n",
    "        # IMAGES BLOCKED ulbox\n",
    "        ul_box = driver.find_element_by_xpath(\"(/html/body/div[7]/div/div/div/div/div/div[2]/div[1]/div[2]/div/div/ul)\")\n",
    "\n",
    "#         # Exact ulbox xpath - IMAGES NOT BLOCKED\n",
    "#         ul_box = driver.find_element_by_xpath(\"(/html/body/div[8]/div/div/div/div/div/div[2]/div[1]/div[2]/div/div/ul)\")\n",
    "        curr_li = ul_box.find_elements_by_tag_name('li')\n",
    "        n_steps = len(curr_li)\n",
    "        #print(f\"Current project images: {n_steps} \")\n",
    "\n",
    "        # Loop through slideshow to load images\n",
    "        svgA = driver.find_element_by_xpath(\"//div[@class='XiDtBVvTZHPCGUIbhtue _2-Y_1udykLwVs81bFrVldC']\")\n",
    "        #print(\"Looping through slideshow.\")\n",
    "        wait = WebDriverWait(driver, 0.5)\n",
    "        for _ in range(n_steps):\n",
    "            driver.execute_script(\"arguments[0].click();\", svgA)\n",
    "            \n",
    "    current_project_name = driver.find_element_by_class_name(\"_1eGrec2mPwl8VD4p7AQjGI\").text\n",
    "    print(f\"{current_project_name}. {n_steps} Images.\", end =\" \")\n",
    "\n",
    "    proj = []\n",
    "    # Extracting links of the images\n",
    "    for i in range(n_steps):\n",
    "        li = curr_li[i]\n",
    "        per_li_div = li.find_elements_by_tag_name('div')[0]\n",
    "        try:\n",
    "            per_li_div_div = per_li_div.find_elements_by_tag_name('div')[0]\n",
    "        except:\n",
    "            continue\n",
    "        per_li = per_li_div_div.find_elements_by_tag_name('img')[0]\n",
    "        temp = {per_li.get_attribute('alt'):per_li.get_attribute('src')}\n",
    "        proj.append(temp)\n",
    "#         print(proj)\n",
    "    return proj"
   ]
  },
  {
   "cell_type": "code",
   "execution_count": null,
   "metadata": {
    "scrolled": true
   },
   "outputs": [
    {
     "name": "stdout",
     "output_type": "stream",
     "text": [
      "\n",
      "Project 2122: \n",
      ". 12 Images.  .  421626,  421638,  421630,  421624,  421628,  421621,  421623,  421639,  421636,  421627,  421626,  421638, ..Scraped. \n",
      "Project 2123: \n",
      ". 12 Images.  .  421606,  421618,  421612,  421603,  421611,  421608,  421613,  421610,  421604,  421616,  421606,  421618, ..Scraped. \n",
      "Project 2124: \n",
      ". 12 Images.  .  421592,  421597,  421598,  421602,  421587,  421596,  421595,  421582,  421589,  421591,  421592,  421597, ..Scraped. \n",
      "Project 2125: \n",
      "Tampines Street 32. 12 Images.  .  421517,  421516,  421519,  421507,  421524,  421506,  421523,  421498,  421518,  421511,  421517,  421516, ..Scraped. \n",
      "Project 2126: \n",
      ". 12 Images.  .  421458,  421456,  421485,  421490,  421488,  421483,  421468,  421480,  421476,  421463,  421458,  421456, ..Scraped. \n",
      "Project 2127: \n",
      ". 12 Images.  .  421431,  421439,  421438,  421424,  421436,  421430,  421437,  421432,  421434,  421448,  421431,  421439, ..Scraped. \n",
      "Project 2128: \n",
      "Circuit Road. 9 Images.  .  421251,  421252,  421255,  421253,  421257,  421256,  421254,  421251,  421252, ..Scraped. \n",
      "Project 2129: \n",
      ". 12 Images.  .  421181,  421173,  421172,  421174,  421170,  421166,  421168,  421171,  421176,  421178,  421181,  421173, ..Scraped. \n",
      "Project 2130: \n",
      ". 12 Images.  .  421047,  421043,  421041,  421044,  421038,  421045,  421042,  421037,  421046,  421040,  421047,  421043, ..Scraped. \n",
      "Project 2131: \n",
      ". 12 Images.  .  420976,  420986,  421007,  420989,  420993,  420990,  420988,  420985,  420983,  420978,  420976,  420986, ..Scraped. \n",
      "Project 2132: \n",
      "Lake Grande. 8 Images.  .  420966,  420965,  420971,  420964,  420975,  420970,  420966,  420965, ..Scraped. \n",
      "Project 2133: \n",
      ". 12 Images.  .  420524,  420515,  420495,  420509,  420511,  420486,  420529,  420520,  420518,  420527,  420524,  420515, ..Scraped. \n",
      "Project 2134: \n",
      ". 12 Images.  .  420354,  420319,  420328,  420317,  420325,  420331,  420332,  420336,  420330,  420345,  420354,  420319, ..Scraped. \n",
      "Project 2135: \n",
      ". 12 Images.  .  420302,  420318,  420288,  420289,  420295,  420291,  420309,  420314,  420307,  420299,  420302,  420318, ..Scraped. \n",
      "Project 2136: \n",
      "Clementi Avenue 3. 12 Images.  .  420258,  420281,  420271,  420273,  420253,  420259,  423672,  420247,  420256,  420263,  420258,  420281, ..Scraped. \n",
      "Project 2137: \n",
      "Punggol Central. 12 Images.  .  419449,  419444,  419445,  419448,  419437,  419439,  419456,  419464,  419440,  419452,  419449,  419444, ..Scraped. \n",
      "Project 2138: \n",
      "Alkaff Crescent. 12 Images.  .  419198,  419210,  419199,  419205,  419208,  419209,  419207,  419204,  419200,  419203,  419198,  419210, ..Scraped. \n",
      "Project 2139: \n",
      "Henderson Road. 9 Images.  .  419067,  419069,  419066,  419068,  419062,  419064,  419063,  419067,  419069, ..Scraped. \n",
      "Project 2140: \n",
      ". 12 Images.  .  418972,  418977,  418964,  418974,  418963,  418967,  418979,  418962,  418968,  418973,  418972,  418977, ..Scraped. \n",
      "Project 2141: \n",
      "Serangoon Avenue 3. 8 Images.  .  418951,  418952,  418949,  418953,  418950,  418948,  418951,  418952, ..Scraped. \n",
      "Project 2142: \n",
      ". 12 Images.  .  418935,  418945,  418946,  418942,  418944,  418938,  418940,  418941,  418933,  418934,  418935,  418945, ..Scraped. \n",
      "Project 2143: \n",
      "Principal Garden. 11 Images.  .  418706,  418700,  418709,  418707,  418708,  418703,  418702,  418704,  418705,  418706,  418700, ..Scraped. \n",
      "Project 2144: \n",
      "Woodlands Drive. 6 Images.  .  418643,  418644,  418641,  418642,  418643,  418644, ..Scraped. \n",
      "Project 2145: \n",
      ". 12 Images.  .  418627,  418620,  418626,  418628,  418621,  418625,  418622,  418629,  418623,  418624,  418627,  418620, ..Scraped. \n",
      "Project 2146: \n",
      "Romp & Roll @ Suntec City. 10 Images.  .  418529,  418521,  418524,  418517,  418523,  418528,  418533,  418526,  418529,  418521, ..Scraped. \n",
      "Project 2147: \n",
      "Jelebu Road. 12 Images.  .  418476,  418468,  418467,  418469,  418466,  418462,  418464,  418465,  418474,  418479,  418476,  418468, ..Scraped. \n",
      "Project 2148: \n",
      ". 12 Images.  .  418451,  418441,  418442,  418437,  418435,  418438,  418440,  418449,  418453,  418454,  418451,  418441, ..Scraped. \n",
      "Project 2149: \n",
      ". 12 Images.  .  418367,  418354,  418355,  418352,  418353,  418349,  418350,  418358,  418362,  418365,  418367,  418354, ..Scraped. \n",
      "Project 2150: \n",
      "Bukit Batok West Avenue 8. 12 Images.  .  418038,  418035,  418036,  418034,  418029,  418028,  418031,  418030,  418039,  418040,  418038,  418035, ..Scraped. \n",
      "Project 2151: \n",
      ". 11 Images.  .  418002,  418003,  418000,  417997,  417996,  417998,  418001,  417999,  418005,  418002,  418003, ..Scraped. \n",
      "Project 2152: \n",
      ". 12 Images.  .  417945,  417960,  417959,  417958,  417957,  417952,  417954,  417956,  417950,  417946,  417945,  417960, ..Scraped. \n",
      "Project 2153: \n",
      "Lilydale. 9 Images.  .  417938,  417936,  417939,  417940,  417934,  417935,  417937,  417938,  417936, ..Scraped. \n",
      "Project 2154: \n",
      "Yishun Ring Road. 11 Images.  .  417931,  417924,  417928,  417932,  417925,  417929,  417933,  417927,  417923,  417931,  417924, ..Scraped. \n",
      "Project 2155: \n",
      ". 12 Images.  .  417897,  417905,  417906,  417904,  417896,  417900,  417899,  417901,  417908,  417895,  417897,  417905, ..Scraped. \n",
      "Project 2156: \n",
      "Circuit Road. 12 Images.  .  417868,  417862,  417867,  417874,  417865,  417864,  417866,  417869,  417870,  417861,  417868,  417862, ..Scraped. \n",
      "Project 2157: \n",
      ". 11 Images.  .  417860,  417857,  417852,  417856,  417854,  417858,  417855,  417853,  417859,  417860,  417857, ..Scraped. \n",
      "Project 2158: \n",
      "Choa Chu Kang Street 53. 8 Images.  .  417847,  417850,  417846,  417849,  417848,  417851,  417847,  417850, ..Scraped. \n",
      "Project 2159: \n",
      "Sumang Walk. 8 Images.  .  417820,  417818,  417819,  417816,  417817,  417821,  417820,  417818, ..Scraped. \n",
      "Project 2160: \n",
      ". 11 Images.  .  417803,  417802,  417795,  417797,  417794,  417799,  417800,  417798,  417804,  417803,  417802, ..Scraped. \n",
      "Project 2161: \n",
      "The Brownstone. 8 Images.  .  417259,  417258,  417260,  417257,  417255,  417254,  417259,  417258, ..Scraped. \n",
      "Project 2162: \n",
      ". 12 Images.  .  417243,  417249,  417250,  417246,  417248,  417252,  417245,  417247,  417242,  417251,  417243,  417249, ..Scraped. \n",
      "Project 2163: \n",
      ". 12 Images.  .  417226,  417233,  417235,  417238,  417209,  417212,  417205,  417215,  417230,  417237,  417226,  417233, ..Scraped. \n",
      "Project 2164: \n",
      ". 12 Images.  .  417194,  417190,  417189,  417191,  417192,  417186,  417198,  417187,  417188,  417199,  417194,  417190, ..Scraped. \n",
      "Project 2165: \n",
      "Nim Collection. 9 Images.  .  417136,  417132,  417133,  417134,  417135,  417138,  417137,  417136,  417132, ..Scraped. \n",
      "Project 2166: \n",
      ". 12 Images.  .  417106,  417119,  417107,  417120,  417124,  417125,  417109,  417110,  417112,  417118,  417106,  417119, ..Scraped. \n",
      "Project 2167: \n",
      ". 12 Images.  .  417100,  417088,  417089,  417090,  417091,  417098,  417099,  417082,  417081,  417086,  417100,  417088, ..Scraped. \n",
      "Project 2168: \n",
      ". 12 Images.  .  416865,  416860,  416856,  416859,  416861,  416858,  416864,  416863,  416868,  416867,  416865,  416860, ..Scraped. \n",
      "Project 2169: \n",
      "Pasir Ris Street 71. 7 Images.  .  416848,  416852,  416851,  416853,  416847,  416848,  416852, ..Scraped. \n",
      "Project 2170: \n",
      ". 11 Images.  .  416842,  416827,  416820,  416822,  416824,  416826,  416836,  416838,  416844,  416842,  416827, ..Scraped. \n",
      "Project 2171: \n",
      ". 12 Images.  .  416781,  416764,  416789,  416785,  416790,  416760,  416777,  416787,  416758,  416771,  416781,  416764, ..Scraped. \n",
      "Project 2172: \n",
      "Tampines North Drive 1. 9 Images.  .  416616,  416622,  416620,  416617,  416618,  416619,  416621,  416616,  416622, ..Scraped. \n",
      "Project 2173: \n",
      "Potong Pasir Avenue 1. 12 Images.  .  416603,  416609,  416608,  416610,  416612,  416613,  416604,  416614,  416615,  416602,  416603,  416609, ..Scraped. \n",
      "Project 2174: \n",
      ". 12 Images.  .  416587,  416591,  416600,  416601,  416588,  416598,  416595,  416596,  416597,  416592,  416587,  416591, ..Scraped. \n",
      "Project 2175: \n",
      ". 12 Images.  .  416577,  416586,  416589,  416582,  416584,  416583,  416581,  416580,  416576,  416579,  416577,  416586, ..Scraped. \n",
      "Project 2176: \n",
      ". 10 Images.  .  416550,  416552,  416554,  416551,  416544,  416545,  416547,  416548,  416550,  416552, ..Scraped. \n",
      "Project 2177: \n",
      "Canberra Crescent. 10 Images.  .  416539,  416533,  416541,  416543,  416535,  416546,  416540,  416536,  416539,  416533, ..Scraped. \n",
      "Project 2178: \n",
      "Bedok Reservoir Road. 12 Images.  .  416522,  416528,  416530,  416526,  416529,  416519,  416523,  416517,  416520,  416524,  416522,  416528, ..Scraped. \n",
      "Project 2179: \n",
      ". 12 Images.  .  416508,  416503,  416505,  416512,  416511,  416514,  416513,  416515,  416510,  416507,  416508,  416503, ..Scraped. \n",
      "Project 2180: \n",
      ". 12 Images.  .  416494,  416496,  416500,  416492,  416493,  416495,  416497,  416501,  416499,  416498,  416494,  416496, ..Scraped. \n",
      "Project 2181: \n",
      ". 12 Images.  .  416426,  416438,  416442,  416432,  416435,  416430,  416431,  416427,  416440,  416436,  416426,  416438, ..Scraped. \n",
      "Project 2182: \n",
      "Thomson Road. 11 Images.  .  416412,  416411,  416408,  416410,  416409,  416400,  416407,  416413,  416399,  416412,  416411, ..Scraped. \n",
      "Project 2183: \n",
      "Yishun Central 1. 8 Images.  .  416402,  416406,  416403,  416405,  416404,  416401,  416402,  416406, ..Scraped. \n",
      "Project 2184: \n",
      "Balam Road. 7 Images.  .  416388,  416387,  416384,  416385,  416386,  416388,  416387, ..Scraped. \n",
      "Project 2185: \n",
      "Yishun Avenue 4. 12 Images.  .  416018,  415998,  416031,  416003,  416025,  416006,  416010,  416022,  416016,  416040,  416018,  415998, ..Scraped. \n",
      "Project 2186: \n",
      "Buangkok Crescent. 12 Images.  .  415993,  415981,  415983,  415986,  415987,  415991,  415989,  415995,  415988,  415992,  415993,  415981, ..Scraped. \n",
      "Project 2187: \n",
      "Costa Rhu. 11 Images.  .  415972,  415940,  415952,  415946,  415950,  415974,  415951,  415954,  415960,  415972,  415940, ..Scraped. \n",
      "Project 2188: \n",
      "Kerong Walk. 11 Images.  .  415907,  416057,  415900,  415891,  415894,  415897,  415911,  415905,  415904,  415907,  416057, ..Scraped. \n",
      "Project 2189: \n",
      "Southaven II. 12 Images.  .  415856,  415877,  415875,  415861,  415862,  415868,  415863,  415876,  415851,  415853,  415856,  415877, ..Scraped. \n",
      "Project 2190: \n",
      ". 12 Images.  .  415555,  415546,  415533,  415536,  415545,  415556,  415572,  415552,  415571,  415551,  415555,  415546, ..Scraped. \n",
      "Project 2191: \n",
      ". 10 Images.  .  415519,  415520,  415517,  415514,  415515,  415516,  415518,  415521,  415519,  415520, ..Scraped. \n",
      "Project 2192: \n",
      ". 11 Images.  .  415506,  415510,  415511,  415508,  415505,  415509,  415507,  415513,  415512,  415506,  415510, ..Scraped. \n",
      "Project 2193: \n",
      "iNz Residence. 8 Images.  .  414634,  414622,  414631,  414630,  414627,  414633,  414634,  414622, ..Scraped. \n",
      "Project 2194: \n",
      "iNz Residence. 8 Images.  .  414629,  414621,  414625,  414626,  414624,  414628,  414629,  414621, ..Scraped. \n",
      "Project 2195: \n",
      "Botanique at Bartley. 6 Images.  .  414618,  414611,  414613,  414615,  414618,  414611, ..Scraped. \n",
      "Project 2196: \n",
      ". 12 Images.  .  414607,  414604,  414610,  414619,  414609,  414612,  414614,  414620,  414606,  415482,  414607,  414604, ..Scraped. \n",
      "Project 2197: \n",
      "Sengkang West Ave. 9 Images.  .  414603,  414600,  414597,  414599,  414598,  414601,  414602,  414603,  414600, ..Scraped. \n",
      "Project 2198: \n",
      ". 12 Images.  .  414588,  414589,  414585,  414594,  414592,  414596,  414583,  414590,  414591,  414586,  414588,  414589, ..Scraped. \n",
      "Project 2199: \n",
      ". 12 Images.  .  414575,  414578,  414573,  414577,  414580,  414576,  414579,  414581,  414582,  414572,  414575,  414578, ..Scraped. \n",
      "Project 2200: \n",
      ". 12 Images.  .  414558,  414559,  414565,  414556,  414564,  414555,  414566,  414567,  414569,  414570,  414558,  414559, ..Scraped. \n",
      "Project 2201: \n",
      "Lake Grande. 10 Images.  .  414552,  414551,  414554,  414547,  414548,  414549,  414553,  414550,  414552,  414551, ..Scraped. \n",
      "Project 2202: \n",
      ". 12 Images.  .  414530,  414509,  414518,  414515,  414516,  414508,  414525,  414522,  414527,  414531,  414530,  414509, ..Scraped. \n",
      "Project 2203: \n",
      ". 12 Images.  .  415733,  414507,  414503,  414506,  423506,  423505,  414505,  414504, "
     ]
    }
   ],
   "source": [
    "while True:\n",
    "    # Extract list of names and tags\n",
    "    check_unique = False\n",
    "    print()\n",
    "    print(f\"Project {count}: \")\n",
    "    curr = extraction()\n",
    "    # next project\n",
    "    next_proj = driver.find_element_by_xpath(\"//div[@class='_3SU9oNAvAeM4pvx3i45gx1']\")\n",
    "    driver.execute_script(\"arguments[0].click();\", next_proj)\n",
    "    print(f\" .\", end =\" \")\n",
    "    while check_unique == False:\n",
    "        for i in curr:\n",
    "            for k,v in i.items():\n",
    "                prop = k.split(', ')[-1]\n",
    "                identity = v.split('/')[-3]\n",
    "                print(f\" {identity},\", end =\" \")\n",
    "                # Stop Extraction if exists\n",
    "                if identity in unique:\n",
    "                    check_unique = True\n",
    "                else:\n",
    "                    unique.add(int(identity))\n",
    "                    \n",
    "                # Else Start Extracting\n",
    "                if prop == 'Commercial':\n",
    "                    filename = 'scraped/' + prop + '/' + identity+' '+k +'.jpg'\n",
    "                else:\n",
    "                    if len(k.split(', '))>1:\n",
    "                        room = k.split(', ')[-2]\n",
    "                        # There may be photos without room name\n",
    "                        if room in room_types:\n",
    "                            filename = 'scraped/' + room + '/' + identity+' '+k +'.jpg'\n",
    "                        else:\n",
    "                            filename = 'scraped/Commercial/' + identity+' '+k +'.jpg'\n",
    "                    else:\n",
    "                        filename = 'scraped/Commercial/' + identity+' '+k +'.jpg'\n",
    "#                 print(filename)\n",
    "#                 print(v)\n",
    "                urllib.request.urlretrieve(v, filename)\n",
    "        break\n",
    "#     if check_unique == False:\n",
    "    count+=1\n",
    "    print(f\"..Scraped.\", end =\" \")\n",
    "#     else:\n",
    "#         print(f\"..Scraped before, skipping...\", end =\" \")"
   ]
  },
  {
   "cell_type": "markdown",
   "metadata": {},
   "source": [
    "### Checking if elements extracted is the right information"
   ]
  },
  {
   "cell_type": "code",
   "execution_count": 26,
   "metadata": {},
   "outputs": [
    {
     "data": {
      "text/plain": [
       "'Gem Residences, Swiss Interior Design, Contemporary, Bathroom, Condo'"
      ]
     },
     "execution_count": 26,
     "metadata": {},
     "output_type": "execute_result"
    }
   ],
   "source": [
    "name = list(curr[0].keys())[0]"
   ]
  },
  {
   "cell_type": "code",
   "execution_count": 35,
   "metadata": {},
   "outputs": [],
   "source": [
    "for i in curr:\n",
    "    for k,v in i.items():\n",
    "        prop = k.split(', ')[-1]\n",
    "        identity = v.split('/')[-3]\n",
    "        if prop == 'Commercial':\n",
    "            filename = 'scraped/' + prop + '/' + identity+' '+k +'.jpg'\n",
    "        else:\n",
    "            room = k.split(', ')[-2]\n",
    "            filename = 'scraped/' + room + '/' + identity+' '+k +'.jpg'\n",
    "        urllib.request.urlretrieve(v, filename)"
   ]
  },
  {
   "cell_type": "code",
   "execution_count": 13,
   "metadata": {},
   "outputs": [
    {
     "data": {
      "text/plain": [
       "('scraped/Dining Room/filename.jpg',\n",
       " <http.client.HTTPMessage at 0x2781ed21438>)"
      ]
     },
     "execution_count": 13,
     "metadata": {},
     "output_type": "execute_result"
    }
   ],
   "source": [
    "# Have to check if they images are already scraped\n",
    "name = \"scraped/Dining Room/filename.jpg\"\n",
    "urllib.request.urlretrieve(\"https://d1hy6t2xeg0mdl.cloudfront.net/image/505310/795b8810c7/1080-width\", name)"
   ]
  },
  {
   "cell_type": "code",
   "execution_count": 196,
   "metadata": {},
   "outputs": [],
   "source": [
    "ul_box = driver.find_element_by_xpath(\"(//ul[@data-reactid='.2.$modal.0.0.1.1.0.1.0.1.0'])\")"
   ]
  },
  {
   "cell_type": "code",
   "execution_count": 197,
   "metadata": {},
   "outputs": [
    {
     "name": "stdout",
     "output_type": "stream",
     "text": [
      "{'class': 'slider animated',\n",
      " 'data-reactid': '.2.$modal.0.0.1.1.0.1.0.1.0',\n",
      " 'style': 'transform: translate3d(-100%, 0px, 0px); transition-duration: '\n",
      "          '350ms;'}\n"
     ]
    }
   ],
   "source": [
    "# CHECK: Printing of attributes.\n",
    "from pprint import pprint\n",
    "attrs = driver.execute_script('var items = {}; for (index = 0; index < arguments[0].attributes.length; ++index) { items[arguments[0].attributes[index].name] = arguments[0].attributes[index].value }; return items;', ul_box)\n",
    "pprint(attrs)"
   ]
  },
  {
   "cell_type": "code",
   "execution_count": 198,
   "metadata": {},
   "outputs": [
    {
     "name": "stdout",
     "output_type": "stream",
     "text": [
      "Current project images: 12 \n"
     ]
    }
   ],
   "source": [
    "curr_li = ul_box.find_elements_by_tag_name('li')\n",
    "print(f\"Current project images: {len(curr_li)} \")"
   ]
  },
  {
   "cell_type": "code",
   "execution_count": 199,
   "metadata": {
    "scrolled": true
   },
   "outputs": [
    {
     "name": "stdout",
     "output_type": "stream",
     "text": [
      ".2.$modal.0.0.1.1.0.1.0.1.0.$itemKey9clone/=1$9.$9\n",
      "https://d1hy6t2xeg0mdl.cloudfront.net/image/505107/b437315f1b/1080-width\n",
      ".2.$modal.0.0.1.1.0.1.0.1.0.1:$itemKey0/=1$0.$0\n",
      "https://d1hy6t2xeg0mdl.cloudfront.net/image/505117/d2d626ad67/1080-width\n",
      ".2.$modal.0.0.1.1.0.1.0.1.0.1:$itemKey1/=1$1.$1\n",
      "https://d1hy6t2xeg0mdl.cloudfront.net/image/505112/6a6613de1b/1080-width\n",
      ".2.$modal.0.0.1.1.0.1.0.1.0.1:$itemKey2/=1$2.$2\n",
      "https://d1hy6t2xeg0mdl.cloudfront.net/image/505106/f6d79b4869/1080-width\n",
      ".2.$modal.0.0.1.1.0.1.0.1.0.1:$itemKey3/=1$3.$3\n",
      "https://d1hy6t2xeg0mdl.cloudfront.net/image/505115/c6418169f5/1080-width\n",
      ".2.$modal.0.0.1.1.0.1.0.1.0.1:$itemKey4/=1$4.$4\n",
      "https://d1hy6t2xeg0mdl.cloudfront.net/image/505116/7e141d7db7/1080-width\n",
      ".2.$modal.0.0.1.1.0.1.0.1.0.1:$itemKey5/=1$5.$5\n",
      "https://d1hy6t2xeg0mdl.cloudfront.net/image/505114/f5798b2218/1080-width\n",
      ".2.$modal.0.0.1.1.0.1.0.1.0.1:$itemKey6/=1$6.$6\n",
      "https://d1hy6t2xeg0mdl.cloudfront.net/image/505103/0e291382ed/1080-width\n",
      ".2.$modal.0.0.1.1.0.1.0.1.0.1:$itemKey7/=1$7.$7\n",
      "https://d1hy6t2xeg0mdl.cloudfront.net/image/505108/8868fb287f/1080-width\n",
      ".2.$modal.0.0.1.1.0.1.0.1.0.1:$itemKey8/=1$8.$8\n",
      "https://d1hy6t2xeg0mdl.cloudfront.net/image/505113/166f5d4ef0/1080-width\n",
      ".2.$modal.0.0.1.1.0.1.0.1.0.1:$itemKey9/=1$9.$9\n",
      "https://d1hy6t2xeg0mdl.cloudfront.net/image/505107/b437315f1b/1080-width\n",
      ".2.$modal.0.0.1.1.0.1.0.1.0.$itemKey0clone/=1$0.$0\n",
      "https://d1hy6t2xeg0mdl.cloudfront.net/image/505117/d2d626ad67/1080-width\n"
     ]
    }
   ],
   "source": [
    "# Times out and causes per_li_div itself to change elements\n",
    "for i in range(len(curr_li)):\n",
    "    \n",
    "    li = curr_li[i]\n",
    "    per_li_div = li.find_elements_by_tag_name('div')[0]\n",
    "    print(per_li_div.get_attribute('data-reactid'))\n",
    "    try:\n",
    "        per_li_div_div = per_li_div.find_elements_by_tag_name('div')[0]\n",
    "    except:\n",
    "        continue\n",
    "    per_li = per_li_div_div.find_elements_by_tag_name('img')[0]\n",
    "    print(per_li.get_attribute('src'))"
   ]
  },
  {
   "cell_type": "code",
   "execution_count": 52,
   "metadata": {},
   "outputs": [],
   "source": [
    "x = driver.find_element_by_tag_name(\"a\")\n",
    "\n",
    "first_elem = driver.find_element_by_xpath(\"(//ul[@data-reactid='.0.2.0.1.5.0.0.$listitems.1:$15735.0.1.0.1.0'])[1]\")"
   ]
  },
  {
   "cell_type": "code",
   "execution_count": 22,
   "metadata": {},
   "outputs": [],
   "source": [
    "# find list of links that is related to photo\n",
    "x = driver.find_elements_by_css_selector(\"[href*='/sg/photos']\");\n",
    "\n",
    "# usual click is via webdriverclick, if ElementClickInterceptedException : x[0].click()\n",
    "# use javascript click"
   ]
  },
  {
   "cell_type": "code",
   "execution_count": null,
   "metadata": {},
   "outputs": [],
   "source": [
    "data-reactid='.3.$modal.0.0.1.1.0.1.0.1.0'\"]"
   ]
  },
  {
   "cell_type": "code",
   "execution_count": null,
   "metadata": {},
   "outputs": [],
   "source": [
    "current_ul = driver.find_element_by_xpath(\"//ul[@class='slider animated' and @data-reactid='.3.$modal.0.0.1.1.0.1.0.1.0']\")"
   ]
  },
  {
   "cell_type": "markdown",
   "metadata": {},
   "source": [
    "#### Misc. Selenium Commands"
   ]
  },
  {
   "cell_type": "code",
   "execution_count": 26,
   "metadata": {},
   "outputs": [],
   "source": [
    "driver.find_element_by_tag_name('body').send_keys(Keys.COMMAND + 't') "
   ]
  },
  {
   "cell_type": "code",
   "execution_count": 25,
   "metadata": {},
   "outputs": [],
   "source": [
    "ActionChains(driver).key_down(Keys.ALT).send_keys('d').perform()\n",
    "ActionChains(driver).key_down(Keys.ENTER).perform()\n",
    "ActionChains(driver).key_up(Keys.ALT).key_up(Keys.ENTER).perform()"
   ]
  },
  {
   "cell_type": "code",
   "execution_count": 29,
   "metadata": {},
   "outputs": [],
   "source": [
    "import pickle\n",
    "pickle.dump( driver.get_cookies() , open(\"cookies.pkl\",\"wb\")) # saving cookies"
   ]
  },
  {
   "cell_type": "code",
   "execution_count": 30,
   "metadata": {},
   "outputs": [],
   "source": [
    "#  Deletes all cookies\n",
    "driver.delete_all_cookies()"
   ]
  },
  {
   "cell_type": "code",
   "execution_count": 106,
   "metadata": {},
   "outputs": [],
   "source": [
    "# Removing previous cache\n",
    "#open tab\n",
    "driver.find_element_by_tag_name('body').send_keys(Keys.COMMAND + 't') \n",
    "driver.get('chrome://settings/clearBrowserData')\n",
    "driver.find_element_by_xpath('//settings-ui').send_keys(Keys.ENTER)\n",
    "clearBrowsingDataConfirm\n",
    "driver.find_element_by_xpath('//settings-ui').send_keys(Keys.ENTER)\n",
    "driver.find_element_by_tag_name('body').send_keys(Keys.COMMAND + 'w') "
   ]
  },
  {
   "cell_type": "code",
   "execution_count": null,
   "metadata": {},
   "outputs": [],
   "source": [
    "driver.switch_to.active_element"
   ]
  },
  {
   "cell_type": "markdown",
   "metadata": {},
   "source": [
    "# RANDOM WORKINGS BELOW\n",
    "---------------------------------------------------------------------------------------------------------------------------"
   ]
  },
  {
   "cell_type": "code",
   "execution_count": 58,
   "metadata": {},
   "outputs": [],
   "source": [
    "current_ul = driver.find_element_by_xpath(\"//ul[@class='slider animated']\")"
   ]
  },
  {
   "cell_type": "code",
   "execution_count": 34,
   "metadata": {},
   "outputs": [
    {
     "data": {
      "text/plain": [
       "'ul'"
      ]
     },
     "execution_count": 34,
     "metadata": {},
     "output_type": "execute_result"
    }
   ],
   "source": [
    "storage = {}\n",
    "current_ul.tag_name"
   ]
  },
  {
   "cell_type": "code",
   "execution_count": 152,
   "metadata": {},
   "outputs": [
    {
     "name": "stdout",
     "output_type": "stream",
     "text": [
      "<class 'selenium.webdriver.remote.webelement.WebElement'>\n",
      "https://d1hy6t2xeg0mdl.cloudfront.net/image/505260/bc5824a2c1/720-width\n",
      "<class 'selenium.webdriver.remote.webelement.WebElement'>\n"
     ]
    },
    {
     "ename": "IndexError",
     "evalue": "list index out of range",
     "output_type": "error",
     "traceback": [
      "\u001b[1;31m---------------------------------------------------------------------------\u001b[0m",
      "\u001b[1;31mIndexError\u001b[0m                                Traceback (most recent call last)",
      "\u001b[1;32m<ipython-input-152-b176c02a2efc>\u001b[0m in \u001b[0;36m<module>\u001b[1;34m\u001b[0m\n\u001b[0;32m      6\u001b[0m     \u001b[1;32melse\u001b[0m\u001b[1;33m:\u001b[0m\u001b[1;33m\u001b[0m\u001b[1;33m\u001b[0m\u001b[0m\n\u001b[0;32m      7\u001b[0m         \u001b[1;31m#print(f\"length is {len(per_li_div)}\")\u001b[0m\u001b[1;33m\u001b[0m\u001b[1;33m\u001b[0m\u001b[1;33m\u001b[0m\u001b[0m\n\u001b[1;32m----> 8\u001b[1;33m         \u001b[0mper_li_div_div\u001b[0m \u001b[1;33m=\u001b[0m \u001b[0mper_li_div\u001b[0m\u001b[1;33m.\u001b[0m\u001b[0mfind_elements_by_tag_name\u001b[0m\u001b[1;33m(\u001b[0m\u001b[1;34m'div'\u001b[0m\u001b[1;33m)\u001b[0m\u001b[1;33m[\u001b[0m\u001b[1;36m0\u001b[0m\u001b[1;33m]\u001b[0m\u001b[1;33m\u001b[0m\u001b[1;33m\u001b[0m\u001b[0m\n\u001b[0m\u001b[0;32m      9\u001b[0m     \u001b[0mper_li\u001b[0m \u001b[1;33m=\u001b[0m \u001b[0mper_li_div_div\u001b[0m\u001b[1;33m.\u001b[0m\u001b[0mfind_elements_by_tag_name\u001b[0m\u001b[1;33m(\u001b[0m\u001b[1;34m'img'\u001b[0m\u001b[1;33m)\u001b[0m\u001b[1;33m[\u001b[0m\u001b[1;36m0\u001b[0m\u001b[1;33m]\u001b[0m\u001b[1;33m\u001b[0m\u001b[1;33m\u001b[0m\u001b[0m\n\u001b[0;32m     10\u001b[0m     \u001b[0mprint\u001b[0m\u001b[1;33m(\u001b[0m\u001b[0mper_li\u001b[0m\u001b[1;33m.\u001b[0m\u001b[0mget_attribute\u001b[0m\u001b[1;33m(\u001b[0m\u001b[1;34m'src'\u001b[0m\u001b[1;33m)\u001b[0m\u001b[1;33m)\u001b[0m\u001b[1;33m\u001b[0m\u001b[1;33m\u001b[0m\u001b[0m\n",
      "\u001b[1;31mIndexError\u001b[0m: list index out of range"
     ]
    }
   ],
   "source": [
    "for num, li in enumerate(curr_li):\n",
    "    per_li_div = li.find_elements_by_tag_name('div')[num]\n",
    "    print(f\"{type(per_li_div)}\")\n",
    "    if type(per_li_div) == 'selenium.webdriver.remote.webelement.WebElement':\n",
    "        per_li_div_div = per_li_div.find_elements_by_tag_name('div')\n",
    "    else:\n",
    "        #print(f\"length is {len(per_li_div)}\")\n",
    "        per_li_div_div = per_li_div.find_elements_by_tag_name('div')[0]\n",
    "    per_li = per_li_div_div.find_elements_by_tag_name('img')[0]    \n",
    "    print(per_li.get_attribute('src'))"
   ]
  },
  {
   "cell_type": "code",
   "execution_count": 141,
   "metadata": {},
   "outputs": [
    {
     "ename": "AttributeError",
     "evalue": "'list' object has no attribute 'find_elements_by_css_selector'",
     "output_type": "error",
     "traceback": [
      "\u001b[1;31m---------------------------------------------------------------------------\u001b[0m",
      "\u001b[1;31mAttributeError\u001b[0m                            Traceback (most recent call last)",
      "\u001b[1;32m<ipython-input-141-6ce9a5d8c5c1>\u001b[0m in \u001b[0;36m<module>\u001b[1;34m\u001b[0m\n\u001b[0;32m      6\u001b[0m     \u001b[1;32mtry\u001b[0m\u001b[1;33m:\u001b[0m\u001b[1;33m\u001b[0m\u001b[1;33m\u001b[0m\u001b[0m\n\u001b[1;32m----> 7\u001b[1;33m         \u001b[0mper_li\u001b[0m \u001b[1;33m=\u001b[0m \u001b[0mper_li_div_div\u001b[0m\u001b[1;33m.\u001b[0m\u001b[0mfind_elements_by_tag_name\u001b[0m\u001b[1;33m(\u001b[0m\u001b[1;34m'img'\u001b[0m\u001b[1;33m)\u001b[0m\u001b[1;33m[\u001b[0m\u001b[1;36m0\u001b[0m\u001b[1;33m]\u001b[0m\u001b[1;33m\u001b[0m\u001b[1;33m\u001b[0m\u001b[0m\n\u001b[0m\u001b[0;32m      8\u001b[0m     \u001b[1;31m#except JavascriptError:\u001b[0m\u001b[1;33m\u001b[0m\u001b[1;33m\u001b[0m\u001b[1;33m\u001b[0m\u001b[0m\n",
      "\u001b[1;31mAttributeError\u001b[0m: 'list' object has no attribute 'find_elements_by_tag_name'",
      "\nDuring handling of the above exception, another exception occurred:\n",
      "\u001b[1;31mAttributeError\u001b[0m                            Traceback (most recent call last)",
      "\u001b[1;32m<ipython-input-141-6ce9a5d8c5c1>\u001b[0m in \u001b[0;36m<module>\u001b[1;34m\u001b[0m\n\u001b[0;32m      8\u001b[0m     \u001b[1;31m#except JavascriptError:\u001b[0m\u001b[1;33m\u001b[0m\u001b[1;33m\u001b[0m\u001b[1;33m\u001b[0m\u001b[0m\n\u001b[0;32m      9\u001b[0m     \u001b[1;32mexcept\u001b[0m\u001b[1;33m:\u001b[0m\u001b[1;33m\u001b[0m\u001b[1;33m\u001b[0m\u001b[0m\n\u001b[1;32m---> 10\u001b[1;33m         \u001b[0mx\u001b[0m \u001b[1;33m=\u001b[0m \u001b[0mper_li_div_div\u001b[0m\u001b[1;33m.\u001b[0m\u001b[0mfind_elements_by_css_selector\u001b[0m\u001b[1;33m(\u001b[0m\u001b[1;34m\"*\"\u001b[0m\u001b[1;33m)\u001b[0m\u001b[1;33m\u001b[0m\u001b[1;33m\u001b[0m\u001b[0m\n\u001b[0m\u001b[0;32m     11\u001b[0m         \u001b[1;32mfor\u001b[0m \u001b[0melement\u001b[0m \u001b[1;32min\u001b[0m \u001b[0mx\u001b[0m\u001b[1;33m:\u001b[0m\u001b[1;33m\u001b[0m\u001b[1;33m\u001b[0m\u001b[0m\n\u001b[0;32m     12\u001b[0m             \u001b[0mouterhtml\u001b[0m \u001b[1;33m=\u001b[0m \u001b[0melement\u001b[0m\u001b[1;33m.\u001b[0m\u001b[0mget_attribute\u001b[0m\u001b[1;33m(\u001b[0m\u001b[1;34m'outerHTML '\u001b[0m\u001b[1;33m)\u001b[0m \u001b[1;31m# to extract outerHTML\u001b[0m\u001b[1;33m\u001b[0m\u001b[1;33m\u001b[0m\u001b[0m\n",
      "\u001b[1;31mAttributeError\u001b[0m: 'list' object has no attribute 'find_elements_by_css_selector'"
     ]
    }
   ],
   "source": [
    "for num, li in enumerate(curr_li):\n",
    "    per_li_div = li.find_elements_by_tag_name('div')[num]\n",
    "    per_li_div_div = per_li_div.find_elements_by_tag_name('div')\n",
    "    if len(per_li_div_div) !=1:\n",
    "        per_li_div_div = per_li_div_div[0]\n",
    "    try:\n",
    "        per_li = per_li_div_div.find_elements_by_tag_name('img')[0]\n",
    "    #except JavascriptError:\n",
    "    except:\n",
    "        x = per_li_div_div.find_elements_by_css_selector(\"*\")\n",
    "        for element in x:\n",
    "            outerhtml = element.get_attribute('outerHTML ') # to extract outerHTML \n",
    "            tag_value=outerhtml.split('',1)[0] # to extract first word\n",
    "            print(\"element found with tag value = \" + tag_value)\n",
    "#         attrs = driver.execute_script('var items = {}; for (index = 0; index < arguments[0].attributes.length; ++index) { items[arguments[0].attributes[index].name] = arguments[0].attributes[index].value }; return items;', per_li_div_div)\n",
    "#         pprint(attrs)\n",
    "        \n",
    "    print(per_li.get_attribute('alt'))"
   ]
  },
  {
   "cell_type": "code",
   "execution_count": 115,
   "metadata": {},
   "outputs": [
    {
     "name": "stdout",
     "output_type": "stream",
     "text": [
      "{'alt': 'Tampines North Drive 1, Fifth Avenue Interior, Modern, Scandinavian, '\n",
      "        'Bathroom, HDB',\n",
      " 'data-reactid': '.2.$modal.0.0.1.1.0.1.0.1.0.$itemKey9clone/=1$9.$9.0.0',\n",
      " 'src': 'https://d1hy6t2xeg0mdl.cloudfront.net/image/505260/bc5824a2c1/720-width'}\n"
     ]
    }
   ],
   "source": [
    "x= ul_box.find_elements_by_tag_name('li')[0].find_elements_by_tag_name('div')[0].find_elements_by_tag_name('div')[0].find_elements_by_tag_name('img')[0]\n",
    "\n",
    "attrs = driver.execute_script('var items = {}; for (index = 0; index < arguments[0].attributes.length; ++index) { items[arguments[0].attributes[index].name] = arguments[0].attributes[index].value }; return items;', x)\n",
    "pprint(attrs)"
   ]
  },
  {
   "cell_type": "code",
   "execution_count": 46,
   "metadata": {},
   "outputs": [],
   "source": [
    "j = curr_li[0].find_element_by_xpath(\"//div/div/img\")"
   ]
  },
  {
   "cell_type": "code",
   "execution_count": 47,
   "metadata": {},
   "outputs": [
    {
     "data": {
      "text/plain": [
       "'Save to Qanvast Board'"
      ]
     },
     "execution_count": 47,
     "metadata": {},
     "output_type": "execute_result"
    }
   ],
   "source": [
    "j.get_attribute('alt')"
   ]
  },
  {
   "cell_type": "code",
   "execution_count": 108,
   "metadata": {},
   "outputs": [
    {
     "name": "stdout",
     "output_type": "stream",
     "text": [
      "Save to Qanvast Board\n",
      "Save to Qanvast Board\n",
      "Save to Qanvast Board\n",
      "Save to Qanvast Board\n",
      "Save to Qanvast Board\n",
      "Save to Qanvast Board\n",
      "Save to Qanvast Board\n",
      "Save to Qanvast Board\n",
      "Save to Qanvast Board\n",
      "Save to Qanvast Board\n",
      "Save to Qanvast Board\n",
      "Save to Qanvast Board\n"
     ]
    }
   ],
   "source": [
    "for li in curr_li:\n",
    "    print(li.find_element_by_xpath(\"//div/div/img\").get_attribute('alt'))"
   ]
  },
  {
   "cell_type": "code",
   "execution_count": 76,
   "metadata": {},
   "outputs": [],
   "source": [
    "d = driver.find_element_by_tag_name(\"img\")"
   ]
  },
  {
   "cell_type": "code",
   "execution_count": 79,
   "metadata": {},
   "outputs": [
    {
     "data": {
      "text/plain": [
       "'https://googleads.g.doubleclick.net/pagead/viewthroughconversion/959875665/?value=0&guid=ON&script=0'"
      ]
     },
     "execution_count": 79,
     "metadata": {},
     "output_type": "execute_result"
    }
   ],
   "source": [
    "d.get_attribute('src')"
   ]
  },
  {
   "cell_type": "code",
   "execution_count": 77,
   "metadata": {},
   "outputs": [
    {
     "ename": "TypeError",
     "evalue": "'WebElement' object is not iterable",
     "output_type": "error",
     "traceback": [
      "\u001b[1;31m---------------------------------------------------------------------------\u001b[0m",
      "\u001b[1;31mTypeError\u001b[0m                                 Traceback (most recent call last)",
      "\u001b[1;32m<ipython-input-77-f70da910b94a>\u001b[0m in \u001b[0;36m<module>\u001b[1;34m\u001b[0m\n\u001b[1;32m----> 1\u001b[1;33m \u001b[1;32mfor\u001b[0m \u001b[0mk\u001b[0m \u001b[1;32min\u001b[0m \u001b[0md\u001b[0m\u001b[1;33m:\u001b[0m\u001b[1;33m\u001b[0m\u001b[1;33m\u001b[0m\u001b[0m\n\u001b[0m\u001b[0;32m      2\u001b[0m     \u001b[0mprint\u001b[0m\u001b[1;33m(\u001b[0m\u001b[0mk\u001b[0m\u001b[1;33m.\u001b[0m\u001b[0mget_attribute\u001b[0m\u001b[1;33m(\u001b[0m\u001b[1;34m'src'\u001b[0m\u001b[1;33m)\u001b[0m\u001b[1;33m)\u001b[0m\u001b[1;33m\u001b[0m\u001b[1;33m\u001b[0m\u001b[0m\n",
      "\u001b[1;31mTypeError\u001b[0m: 'WebElement' object is not iterable"
     ]
    }
   ],
   "source": [
    "for k in d:\n",
    "    print(k.get_attribute('src'))"
   ]
  },
  {
   "cell_type": "code",
   "execution_count": 62,
   "metadata": {},
   "outputs": [],
   "source": [
    "k = driver.find_element_by_xpath(\"(//div[@class='_1LqapI10fxVkMKAyzTxjvZ'])/div/div/ul\")\n"
   ]
  },
  {
   "cell_type": "code",
   "execution_count": 63,
   "metadata": {},
   "outputs": [],
   "source": [
    "curr_li = k.find_elements_by_tag_name('li')"
   ]
  },
  {
   "cell_type": "code",
   "execution_count": 61,
   "metadata": {},
   "outputs": [
    {
     "data": {
      "text/plain": [
       "<selenium.webdriver.remote.webelement.WebElement (session=\"464b6985c4275793577cdba47093a175\", element=\"bddae0c6-0471-451d-9ee5-f9ad1d335066\")>"
      ]
     },
     "execution_count": 61,
     "metadata": {},
     "output_type": "execute_result"
    }
   ],
   "source": [
    "driver.find_element_by_class_name('_1LqapI10fxVkMKAyzTxjvZ')"
   ]
  },
  {
   "cell_type": "code",
   "execution_count": 28,
   "metadata": {},
   "outputs": [
    {
     "data": {
      "text/plain": [
       "'https://googleads.g.doubleclick.net/pagead/viewthroughconversion/959875665/?value=0&guid=ON&script=0'"
      ]
     },
     "execution_count": 28,
     "metadata": {},
     "output_type": "execute_result"
    }
   ],
   "source": [
    "driver.find_element_by_tag_name('img').get_attribute('src')"
   ]
  },
  {
   "cell_type": "code",
   "execution_count": null,
   "metadata": {},
   "outputs": [],
   "source": []
  },
  {
   "cell_type": "code",
   "execution_count": 14,
   "metadata": {},
   "outputs": [],
   "source": [
    "\n",
    "#link = driver.find_element_by_link_text('Load More Arguments')\n",
    "ActionChains(driver).move_to_element(x[1]).perform()\n",
    "x[1].click()"
   ]
  },
  {
   "cell_type": "code",
   "execution_count": null,
   "metadata": {},
   "outputs": [],
   "source": []
  },
  {
   "cell_type": "code",
   "execution_count": 19,
   "metadata": {
    "scrolled": true
   },
   "outputs": [
    {
     "ename": "ElementClickInterceptedException",
     "evalue": "Message: element click intercepted: Element <a href=\"/sg/photos/country-esquire-dining-room-504731\" target=\"_blank\" data-reactid=\".0.2.0.1.5.0.0.$listitems.1:$15739.0.1.0.1.0.$itemKey0clone/=1$0.$0.0.0\">...</a> is not clickable at point (224, 585). Other element would receive the click: <li class=\"slide selected\" data-reactid=\".0.2.0.1.5.0.0.$listitems.1:$15739.0.1.0.1.0.$itemKey0clone/=1$0\">...</li>\n  (Session info: chrome=90.0.4430.72)\n",
     "output_type": "error",
     "traceback": [
      "\u001b[1;31m---------------------------------------------------------------------------\u001b[0m",
      "\u001b[1;31mElementClickInterceptedException\u001b[0m          Traceback (most recent call last)",
      "\u001b[1;32m<ipython-input-19-48f7e0f436a4>\u001b[0m in \u001b[0;36m<module>\u001b[1;34m\u001b[0m\n\u001b[0;32m      1\u001b[0m \u001b[1;31m#link = driver.find_element_by_link_text('Load More Arguments')\u001b[0m\u001b[1;33m\u001b[0m\u001b[1;33m\u001b[0m\u001b[1;33m\u001b[0m\u001b[0m\n\u001b[0;32m      2\u001b[0m \u001b[0mActionChains\u001b[0m\u001b[1;33m(\u001b[0m\u001b[0mdriver\u001b[0m\u001b[1;33m)\u001b[0m\u001b[1;33m.\u001b[0m\u001b[0mmove_to_element\u001b[0m\u001b[1;33m(\u001b[0m\u001b[0mx\u001b[0m\u001b[1;33m[\u001b[0m\u001b[1;36m1\u001b[0m\u001b[1;33m]\u001b[0m\u001b[1;33m)\u001b[0m\u001b[1;33m.\u001b[0m\u001b[0mperform\u001b[0m\u001b[1;33m(\u001b[0m\u001b[1;33m)\u001b[0m\u001b[1;33m\u001b[0m\u001b[1;33m\u001b[0m\u001b[0m\n\u001b[1;32m----> 3\u001b[1;33m \u001b[0mx\u001b[0m\u001b[1;33m[\u001b[0m\u001b[1;36m1\u001b[0m\u001b[1;33m]\u001b[0m\u001b[1;33m.\u001b[0m\u001b[0mclick\u001b[0m\u001b[1;33m(\u001b[0m\u001b[1;33m)\u001b[0m\u001b[1;33m\u001b[0m\u001b[1;33m\u001b[0m\u001b[0m\n\u001b[0m",
      "\u001b[1;32m~\\Anaconda3\\lib\\site-packages\\selenium\\webdriver\\remote\\webelement.py\u001b[0m in \u001b[0;36mclick\u001b[1;34m(self)\u001b[0m\n\u001b[0;32m     78\u001b[0m     \u001b[1;32mdef\u001b[0m \u001b[0mclick\u001b[0m\u001b[1;33m(\u001b[0m\u001b[0mself\u001b[0m\u001b[1;33m)\u001b[0m\u001b[1;33m:\u001b[0m\u001b[1;33m\u001b[0m\u001b[1;33m\u001b[0m\u001b[0m\n\u001b[0;32m     79\u001b[0m         \u001b[1;34m\"\"\"Clicks the element.\"\"\"\u001b[0m\u001b[1;33m\u001b[0m\u001b[1;33m\u001b[0m\u001b[0m\n\u001b[1;32m---> 80\u001b[1;33m         \u001b[0mself\u001b[0m\u001b[1;33m.\u001b[0m\u001b[0m_execute\u001b[0m\u001b[1;33m(\u001b[0m\u001b[0mCommand\u001b[0m\u001b[1;33m.\u001b[0m\u001b[0mCLICK_ELEMENT\u001b[0m\u001b[1;33m)\u001b[0m\u001b[1;33m\u001b[0m\u001b[1;33m\u001b[0m\u001b[0m\n\u001b[0m\u001b[0;32m     81\u001b[0m \u001b[1;33m\u001b[0m\u001b[0m\n\u001b[0;32m     82\u001b[0m     \u001b[1;32mdef\u001b[0m \u001b[0msubmit\u001b[0m\u001b[1;33m(\u001b[0m\u001b[0mself\u001b[0m\u001b[1;33m)\u001b[0m\u001b[1;33m:\u001b[0m\u001b[1;33m\u001b[0m\u001b[1;33m\u001b[0m\u001b[0m\n",
      "\u001b[1;32m~\\Anaconda3\\lib\\site-packages\\selenium\\webdriver\\remote\\webelement.py\u001b[0m in \u001b[0;36m_execute\u001b[1;34m(self, command, params)\u001b[0m\n\u001b[0;32m    631\u001b[0m             \u001b[0mparams\u001b[0m \u001b[1;33m=\u001b[0m \u001b[1;33m{\u001b[0m\u001b[1;33m}\u001b[0m\u001b[1;33m\u001b[0m\u001b[1;33m\u001b[0m\u001b[0m\n\u001b[0;32m    632\u001b[0m         \u001b[0mparams\u001b[0m\u001b[1;33m[\u001b[0m\u001b[1;34m'id'\u001b[0m\u001b[1;33m]\u001b[0m \u001b[1;33m=\u001b[0m \u001b[0mself\u001b[0m\u001b[1;33m.\u001b[0m\u001b[0m_id\u001b[0m\u001b[1;33m\u001b[0m\u001b[1;33m\u001b[0m\u001b[0m\n\u001b[1;32m--> 633\u001b[1;33m         \u001b[1;32mreturn\u001b[0m \u001b[0mself\u001b[0m\u001b[1;33m.\u001b[0m\u001b[0m_parent\u001b[0m\u001b[1;33m.\u001b[0m\u001b[0mexecute\u001b[0m\u001b[1;33m(\u001b[0m\u001b[0mcommand\u001b[0m\u001b[1;33m,\u001b[0m \u001b[0mparams\u001b[0m\u001b[1;33m)\u001b[0m\u001b[1;33m\u001b[0m\u001b[1;33m\u001b[0m\u001b[0m\n\u001b[0m\u001b[0;32m    634\u001b[0m \u001b[1;33m\u001b[0m\u001b[0m\n\u001b[0;32m    635\u001b[0m     \u001b[1;32mdef\u001b[0m \u001b[0mfind_element\u001b[0m\u001b[1;33m(\u001b[0m\u001b[0mself\u001b[0m\u001b[1;33m,\u001b[0m \u001b[0mby\u001b[0m\u001b[1;33m=\u001b[0m\u001b[0mBy\u001b[0m\u001b[1;33m.\u001b[0m\u001b[0mID\u001b[0m\u001b[1;33m,\u001b[0m \u001b[0mvalue\u001b[0m\u001b[1;33m=\u001b[0m\u001b[1;32mNone\u001b[0m\u001b[1;33m)\u001b[0m\u001b[1;33m:\u001b[0m\u001b[1;33m\u001b[0m\u001b[1;33m\u001b[0m\u001b[0m\n",
      "\u001b[1;32m~\\Anaconda3\\lib\\site-packages\\selenium\\webdriver\\remote\\webdriver.py\u001b[0m in \u001b[0;36mexecute\u001b[1;34m(self, driver_command, params)\u001b[0m\n\u001b[0;32m    319\u001b[0m         \u001b[0mresponse\u001b[0m \u001b[1;33m=\u001b[0m \u001b[0mself\u001b[0m\u001b[1;33m.\u001b[0m\u001b[0mcommand_executor\u001b[0m\u001b[1;33m.\u001b[0m\u001b[0mexecute\u001b[0m\u001b[1;33m(\u001b[0m\u001b[0mdriver_command\u001b[0m\u001b[1;33m,\u001b[0m \u001b[0mparams\u001b[0m\u001b[1;33m)\u001b[0m\u001b[1;33m\u001b[0m\u001b[1;33m\u001b[0m\u001b[0m\n\u001b[0;32m    320\u001b[0m         \u001b[1;32mif\u001b[0m \u001b[0mresponse\u001b[0m\u001b[1;33m:\u001b[0m\u001b[1;33m\u001b[0m\u001b[1;33m\u001b[0m\u001b[0m\n\u001b[1;32m--> 321\u001b[1;33m             \u001b[0mself\u001b[0m\u001b[1;33m.\u001b[0m\u001b[0merror_handler\u001b[0m\u001b[1;33m.\u001b[0m\u001b[0mcheck_response\u001b[0m\u001b[1;33m(\u001b[0m\u001b[0mresponse\u001b[0m\u001b[1;33m)\u001b[0m\u001b[1;33m\u001b[0m\u001b[1;33m\u001b[0m\u001b[0m\n\u001b[0m\u001b[0;32m    322\u001b[0m             response['value'] = self._unwrap_value(\n\u001b[0;32m    323\u001b[0m                 response.get('value', None))\n",
      "\u001b[1;32m~\\Anaconda3\\lib\\site-packages\\selenium\\webdriver\\remote\\errorhandler.py\u001b[0m in \u001b[0;36mcheck_response\u001b[1;34m(self, response)\u001b[0m\n\u001b[0;32m    240\u001b[0m                 \u001b[0malert_text\u001b[0m \u001b[1;33m=\u001b[0m \u001b[0mvalue\u001b[0m\u001b[1;33m[\u001b[0m\u001b[1;34m'alert'\u001b[0m\u001b[1;33m]\u001b[0m\u001b[1;33m.\u001b[0m\u001b[0mget\u001b[0m\u001b[1;33m(\u001b[0m\u001b[1;34m'text'\u001b[0m\u001b[1;33m)\u001b[0m\u001b[1;33m\u001b[0m\u001b[1;33m\u001b[0m\u001b[0m\n\u001b[0;32m    241\u001b[0m             \u001b[1;32mraise\u001b[0m \u001b[0mexception_class\u001b[0m\u001b[1;33m(\u001b[0m\u001b[0mmessage\u001b[0m\u001b[1;33m,\u001b[0m \u001b[0mscreen\u001b[0m\u001b[1;33m,\u001b[0m \u001b[0mstacktrace\u001b[0m\u001b[1;33m,\u001b[0m \u001b[0malert_text\u001b[0m\u001b[1;33m)\u001b[0m\u001b[1;33m\u001b[0m\u001b[1;33m\u001b[0m\u001b[0m\n\u001b[1;32m--> 242\u001b[1;33m         \u001b[1;32mraise\u001b[0m \u001b[0mexception_class\u001b[0m\u001b[1;33m(\u001b[0m\u001b[0mmessage\u001b[0m\u001b[1;33m,\u001b[0m \u001b[0mscreen\u001b[0m\u001b[1;33m,\u001b[0m \u001b[0mstacktrace\u001b[0m\u001b[1;33m)\u001b[0m\u001b[1;33m\u001b[0m\u001b[1;33m\u001b[0m\u001b[0m\n\u001b[0m\u001b[0;32m    243\u001b[0m \u001b[1;33m\u001b[0m\u001b[0m\n\u001b[0;32m    244\u001b[0m     \u001b[1;32mdef\u001b[0m \u001b[0m_value_or_default\u001b[0m\u001b[1;33m(\u001b[0m\u001b[0mself\u001b[0m\u001b[1;33m,\u001b[0m \u001b[0mobj\u001b[0m\u001b[1;33m,\u001b[0m \u001b[0mkey\u001b[0m\u001b[1;33m,\u001b[0m \u001b[0mdefault\u001b[0m\u001b[1;33m)\u001b[0m\u001b[1;33m:\u001b[0m\u001b[1;33m\u001b[0m\u001b[1;33m\u001b[0m\u001b[0m\n",
      "\u001b[1;31mElementClickInterceptedException\u001b[0m: Message: element click intercepted: Element <a href=\"/sg/photos/country-esquire-dining-room-504731\" target=\"_blank\" data-reactid=\".0.2.0.1.5.0.0.$listitems.1:$15739.0.1.0.1.0.$itemKey0clone/=1$0.$0.0.0\">...</a> is not clickable at point (224, 585). Other element would receive the click: <li class=\"slide selected\" data-reactid=\".0.2.0.1.5.0.0.$listitems.1:$15739.0.1.0.1.0.$itemKey0clone/=1$0\">...</li>\n  (Session info: chrome=90.0.4430.72)\n"
     ]
    }
   ],
   "source": [
    "#link = driver.find_element_by_link_text('Load More Arguments')\n",
    "ActionChains(driver).move_to_element(x[1]).perform()\n",
    "x[1].click()"
   ]
  },
  {
   "cell_type": "code",
   "execution_count": 6,
   "metadata": {},
   "outputs": [
    {
     "data": {
      "text/plain": [
       "'https://qanvast.com/sg/photos/country-esquire-dining-room-504731'"
      ]
     },
     "execution_count": 6,
     "metadata": {},
     "output_type": "execute_result"
    }
   ],
   "source": [
    "x[0].get_attribute(\"href\")"
   ]
  },
  {
   "cell_type": "code",
   "execution_count": 78,
   "metadata": {},
   "outputs": [],
   "source": [
    "\n",
    "driver.execute_script(\"arguments[0].click();\", x[0])\n"
   ]
  },
  {
   "cell_type": "code",
   "execution_count": 112,
   "metadata": {
    "scrolled": true
   },
   "outputs": [
    {
     "ename": "InvalidSelectorException",
     "evalue": "Message: invalid selector: An invalid or illegal selector was specified\n  (Session info: chrome=89.0.4389.114)\n",
     "output_type": "error",
     "traceback": [
      "\u001b[1;31m---------------------------------------------------------------------------\u001b[0m",
      "\u001b[1;31mInvalidSelectorException\u001b[0m                  Traceback (most recent call last)",
      "\u001b[1;32m<ipython-input-112-a9948e90154e>\u001b[0m in \u001b[0;36m<module>\u001b[1;34m\u001b[0m\n\u001b[0;32m      1\u001b[0m \u001b[1;31m#selector = \"div[class^=carousel carousel-slider]\"\u001b[0m\u001b[1;33m\u001b[0m\u001b[1;33m\u001b[0m\u001b[1;33m\u001b[0m\u001b[0m\n\u001b[1;32m----> 2\u001b[1;33m \u001b[0mx\u001b[0m \u001b[1;33m=\u001b[0m \u001b[0mdriver\u001b[0m\u001b[1;33m.\u001b[0m\u001b[0mfind_elements_by_css_selector\u001b[0m\u001b[1;33m(\u001b[0m\u001b[1;34m\"//div[@class^='carousel']\"\u001b[0m\u001b[1;33m)\u001b[0m\u001b[1;33m\u001b[0m\u001b[1;33m\u001b[0m\u001b[0m\n\u001b[0m",
      "\u001b[1;32m~\\Anaconda3\\lib\\site-packages\\selenium\\webdriver\\remote\\webdriver.py\u001b[0m in \u001b[0;36mfind_elements_by_css_selector\u001b[1;34m(self, css_selector)\u001b[0m\n\u001b[0;32m    612\u001b[0m             \u001b[0melements\u001b[0m \u001b[1;33m=\u001b[0m \u001b[0mdriver\u001b[0m\u001b[1;33m.\u001b[0m\u001b[0mfind_elements_by_css_selector\u001b[0m\u001b[1;33m(\u001b[0m\u001b[1;34m'.foo'\u001b[0m\u001b[1;33m)\u001b[0m\u001b[1;33m\u001b[0m\u001b[1;33m\u001b[0m\u001b[0m\n\u001b[0;32m    613\u001b[0m         \"\"\"\n\u001b[1;32m--> 614\u001b[1;33m         \u001b[1;32mreturn\u001b[0m \u001b[0mself\u001b[0m\u001b[1;33m.\u001b[0m\u001b[0mfind_elements\u001b[0m\u001b[1;33m(\u001b[0m\u001b[0mby\u001b[0m\u001b[1;33m=\u001b[0m\u001b[0mBy\u001b[0m\u001b[1;33m.\u001b[0m\u001b[0mCSS_SELECTOR\u001b[0m\u001b[1;33m,\u001b[0m \u001b[0mvalue\u001b[0m\u001b[1;33m=\u001b[0m\u001b[0mcss_selector\u001b[0m\u001b[1;33m)\u001b[0m\u001b[1;33m\u001b[0m\u001b[1;33m\u001b[0m\u001b[0m\n\u001b[0m\u001b[0;32m    615\u001b[0m \u001b[1;33m\u001b[0m\u001b[0m\n\u001b[0;32m    616\u001b[0m     \u001b[1;32mdef\u001b[0m \u001b[0mexecute_script\u001b[0m\u001b[1;33m(\u001b[0m\u001b[0mself\u001b[0m\u001b[1;33m,\u001b[0m \u001b[0mscript\u001b[0m\u001b[1;33m,\u001b[0m \u001b[1;33m*\u001b[0m\u001b[0margs\u001b[0m\u001b[1;33m)\u001b[0m\u001b[1;33m:\u001b[0m\u001b[1;33m\u001b[0m\u001b[1;33m\u001b[0m\u001b[0m\n",
      "\u001b[1;32m~\\Anaconda3\\lib\\site-packages\\selenium\\webdriver\\remote\\webdriver.py\u001b[0m in \u001b[0;36mfind_elements\u001b[1;34m(self, by, value)\u001b[0m\n\u001b[0;32m   1005\u001b[0m         return self.execute(Command.FIND_ELEMENTS, {\n\u001b[0;32m   1006\u001b[0m             \u001b[1;34m'using'\u001b[0m\u001b[1;33m:\u001b[0m \u001b[0mby\u001b[0m\u001b[1;33m,\u001b[0m\u001b[1;33m\u001b[0m\u001b[1;33m\u001b[0m\u001b[0m\n\u001b[1;32m-> 1007\u001b[1;33m             'value': value})['value'] or []\n\u001b[0m\u001b[0;32m   1008\u001b[0m \u001b[1;33m\u001b[0m\u001b[0m\n\u001b[0;32m   1009\u001b[0m     \u001b[1;33m@\u001b[0m\u001b[0mproperty\u001b[0m\u001b[1;33m\u001b[0m\u001b[1;33m\u001b[0m\u001b[0m\n",
      "\u001b[1;32m~\\Anaconda3\\lib\\site-packages\\selenium\\webdriver\\remote\\webdriver.py\u001b[0m in \u001b[0;36mexecute\u001b[1;34m(self, driver_command, params)\u001b[0m\n\u001b[0;32m    319\u001b[0m         \u001b[0mresponse\u001b[0m \u001b[1;33m=\u001b[0m \u001b[0mself\u001b[0m\u001b[1;33m.\u001b[0m\u001b[0mcommand_executor\u001b[0m\u001b[1;33m.\u001b[0m\u001b[0mexecute\u001b[0m\u001b[1;33m(\u001b[0m\u001b[0mdriver_command\u001b[0m\u001b[1;33m,\u001b[0m \u001b[0mparams\u001b[0m\u001b[1;33m)\u001b[0m\u001b[1;33m\u001b[0m\u001b[1;33m\u001b[0m\u001b[0m\n\u001b[0;32m    320\u001b[0m         \u001b[1;32mif\u001b[0m \u001b[0mresponse\u001b[0m\u001b[1;33m:\u001b[0m\u001b[1;33m\u001b[0m\u001b[1;33m\u001b[0m\u001b[0m\n\u001b[1;32m--> 321\u001b[1;33m             \u001b[0mself\u001b[0m\u001b[1;33m.\u001b[0m\u001b[0merror_handler\u001b[0m\u001b[1;33m.\u001b[0m\u001b[0mcheck_response\u001b[0m\u001b[1;33m(\u001b[0m\u001b[0mresponse\u001b[0m\u001b[1;33m)\u001b[0m\u001b[1;33m\u001b[0m\u001b[1;33m\u001b[0m\u001b[0m\n\u001b[0m\u001b[0;32m    322\u001b[0m             response['value'] = self._unwrap_value(\n\u001b[0;32m    323\u001b[0m                 response.get('value', None))\n",
      "\u001b[1;32m~\\Anaconda3\\lib\\site-packages\\selenium\\webdriver\\remote\\errorhandler.py\u001b[0m in \u001b[0;36mcheck_response\u001b[1;34m(self, response)\u001b[0m\n\u001b[0;32m    240\u001b[0m                 \u001b[0malert_text\u001b[0m \u001b[1;33m=\u001b[0m \u001b[0mvalue\u001b[0m\u001b[1;33m[\u001b[0m\u001b[1;34m'alert'\u001b[0m\u001b[1;33m]\u001b[0m\u001b[1;33m.\u001b[0m\u001b[0mget\u001b[0m\u001b[1;33m(\u001b[0m\u001b[1;34m'text'\u001b[0m\u001b[1;33m)\u001b[0m\u001b[1;33m\u001b[0m\u001b[1;33m\u001b[0m\u001b[0m\n\u001b[0;32m    241\u001b[0m             \u001b[1;32mraise\u001b[0m \u001b[0mexception_class\u001b[0m\u001b[1;33m(\u001b[0m\u001b[0mmessage\u001b[0m\u001b[1;33m,\u001b[0m \u001b[0mscreen\u001b[0m\u001b[1;33m,\u001b[0m \u001b[0mstacktrace\u001b[0m\u001b[1;33m,\u001b[0m \u001b[0malert_text\u001b[0m\u001b[1;33m)\u001b[0m\u001b[1;33m\u001b[0m\u001b[1;33m\u001b[0m\u001b[0m\n\u001b[1;32m--> 242\u001b[1;33m         \u001b[1;32mraise\u001b[0m \u001b[0mexception_class\u001b[0m\u001b[1;33m(\u001b[0m\u001b[0mmessage\u001b[0m\u001b[1;33m,\u001b[0m \u001b[0mscreen\u001b[0m\u001b[1;33m,\u001b[0m \u001b[0mstacktrace\u001b[0m\u001b[1;33m)\u001b[0m\u001b[1;33m\u001b[0m\u001b[1;33m\u001b[0m\u001b[0m\n\u001b[0m\u001b[0;32m    243\u001b[0m \u001b[1;33m\u001b[0m\u001b[0m\n\u001b[0;32m    244\u001b[0m     \u001b[1;32mdef\u001b[0m \u001b[0m_value_or_default\u001b[0m\u001b[1;33m(\u001b[0m\u001b[0mself\u001b[0m\u001b[1;33m,\u001b[0m \u001b[0mobj\u001b[0m\u001b[1;33m,\u001b[0m \u001b[0mkey\u001b[0m\u001b[1;33m,\u001b[0m \u001b[0mdefault\u001b[0m\u001b[1;33m)\u001b[0m\u001b[1;33m:\u001b[0m\u001b[1;33m\u001b[0m\u001b[1;33m\u001b[0m\u001b[0m\n",
      "\u001b[1;31mInvalidSelectorException\u001b[0m: Message: invalid selector: An invalid or illegal selector was specified\n  (Session info: chrome=89.0.4389.114)\n"
     ]
    }
   ],
   "source": [
    "#selector = \"div[class^=carousel carousel-slider]\"\n",
    "x = driver.find_elements_by_css_selector(\"//div[@class^='carousel']\")"
   ]
  },
  {
   "cell_type": "code",
   "execution_count": 21,
   "metadata": {
    "scrolled": true
   },
   "outputs": [
    {
     "ename": "TypeError",
     "evalue": "'WebElement' object does not support indexing",
     "output_type": "error",
     "traceback": [
      "\u001b[1;31m---------------------------------------------------------------------------\u001b[0m",
      "\u001b[1;31mTypeError\u001b[0m                                 Traceback (most recent call last)",
      "\u001b[1;32m<ipython-input-21-030be5131bbe>\u001b[0m in \u001b[0;36m<module>\u001b[1;34m\u001b[0m\n\u001b[0;32m      1\u001b[0m \u001b[1;32mfor\u001b[0m \u001b[0mi\u001b[0m \u001b[1;32min\u001b[0m \u001b[0mrange\u001b[0m\u001b[1;33m(\u001b[0m\u001b[1;36m50\u001b[0m\u001b[1;33m)\u001b[0m\u001b[1;33m:\u001b[0m\u001b[1;33m\u001b[0m\u001b[1;33m\u001b[0m\u001b[0m\n\u001b[1;32m----> 2\u001b[1;33m     \u001b[0mprint\u001b[0m\u001b[1;33m(\u001b[0m\u001b[0mx\u001b[0m\u001b[1;33m[\u001b[0m\u001b[0mi\u001b[0m\u001b[1;33m]\u001b[0m\u001b[1;33m.\u001b[0m\u001b[0mget_attribute\u001b[0m\u001b[1;33m(\u001b[0m\u001b[1;34m\"href\"\u001b[0m\u001b[1;33m)\u001b[0m\u001b[1;33m)\u001b[0m\u001b[1;33m\u001b[0m\u001b[1;33m\u001b[0m\u001b[0m\n\u001b[0m",
      "\u001b[1;31mTypeError\u001b[0m: 'WebElement' object does not support indexing"
     ]
    }
   ],
   "source": [
    "for i in range(50):\n",
    "    print(x[i].get_attribute(\"href\"))"
   ]
  },
  {
   "cell_type": "code",
   "execution_count": 23,
   "metadata": {
    "scrolled": true
   },
   "outputs": [
    {
     "name": "stdout",
     "output_type": "stream",
     "text": [
      "https://qanvast.com/sg/photos/country-esquire-dining-room-504731\n",
      "https://qanvast.com/sg/photos/country-esquire-dining-room-504731\n",
      "https://qanvast.com/sg/photos/country-esquire-dining-room-504731\n",
      "https://qanvast.com/sg/photos/ghim-moh-link-living-room-504712\n",
      "https://qanvast.com/sg/photos/ghim-moh-link-living-room-504712\n",
      "https://qanvast.com/sg/photos/clementi-avenue-3-living-room-504697\n",
      "https://qanvast.com/sg/photos/clementi-avenue-3-living-room-504697\n",
      "https://qanvast.com/sg/photos/canberra-street-living-room-504673\n",
      "https://qanvast.com/sg/photos/canberra-street-living-room-504673\n",
      "https://qanvast.com/sg/photos/pasir-ris-drive-1-living-room-504427\n",
      "https://qanvast.com/sg/photos/pasir-ris-drive-1-living-room-504427\n",
      "https://qanvast.com/sg/photos/ang-mo-kio-avenue-4-living-room-504413\n",
      "https://qanvast.com/sg/photos/ang-mo-kio-avenue-4-living-room-504413\n",
      "https://qanvast.com/sg/photos/parc-riviera-living-room-504403\n",
      "https://qanvast.com/sg/photos/parc-riviera-living-room-504403\n",
      "https://qanvast.com/sg/photos/choa-chu-kang-avenue-7-living-room-504386\n",
      "https://qanvast.com/sg/photos/choa-chu-kang-avenue-7-living-room-504386\n",
      "https://qanvast.com/sg/photos/west-coast-drive-living-room-504376\n",
      "https://qanvast.com/sg/photos/west-coast-drive-living-room-504376\n",
      "https://qanvast.com/sg/photos/clementi-avenue-4-living-room-504367\n",
      "https://qanvast.com/sg/photos/clementi-avenue-4-living-room-504367\n",
      "https://qanvast.com/sg/photos/bidadari-park-drive-living-room-504283\n",
      "https://qanvast.com/sg/photos/bidadari-park-drive-living-room-504283\n",
      "https://qanvast.com/sg/photos/pasir-ris-drive-10-living-room-504214\n",
      "https://qanvast.com/sg/photos/pasir-ris-drive-10-living-room-504214\n",
      "https://qanvast.com/sg/photos/tags/modern\n",
      "https://qanvast.com/sg/photos/tags/contemporary\n",
      "https://qanvast.com/sg/photos/tags/dining-room\n",
      "https://qanvast.com/sg/photos/tags/condo\n"
     ]
    },
    {
     "ename": "IndexError",
     "evalue": "list index out of range",
     "output_type": "error",
     "traceback": [
      "\u001b[1;31m---------------------------------------------------------------------------\u001b[0m",
      "\u001b[1;31mIndexError\u001b[0m                                Traceback (most recent call last)",
      "\u001b[1;32m<ipython-input-23-030be5131bbe>\u001b[0m in \u001b[0;36m<module>\u001b[1;34m\u001b[0m\n\u001b[0;32m      1\u001b[0m \u001b[1;32mfor\u001b[0m \u001b[0mi\u001b[0m \u001b[1;32min\u001b[0m \u001b[0mrange\u001b[0m\u001b[1;33m(\u001b[0m\u001b[1;36m50\u001b[0m\u001b[1;33m)\u001b[0m\u001b[1;33m:\u001b[0m\u001b[1;33m\u001b[0m\u001b[1;33m\u001b[0m\u001b[0m\n\u001b[1;32m----> 2\u001b[1;33m     \u001b[0mprint\u001b[0m\u001b[1;33m(\u001b[0m\u001b[0mx\u001b[0m\u001b[1;33m[\u001b[0m\u001b[0mi\u001b[0m\u001b[1;33m]\u001b[0m\u001b[1;33m.\u001b[0m\u001b[0mget_attribute\u001b[0m\u001b[1;33m(\u001b[0m\u001b[1;34m\"href\"\u001b[0m\u001b[1;33m)\u001b[0m\u001b[1;33m)\u001b[0m\u001b[1;33m\u001b[0m\u001b[1;33m\u001b[0m\u001b[0m\n\u001b[0m",
      "\u001b[1;31mIndexError\u001b[0m: list index out of range"
     ]
    }
   ],
   "source": [
    "for i in range(50):\n",
    "    print(x[i].get_attribute(\"href\"))"
   ]
  },
  {
   "cell_type": "code",
   "execution_count": 106,
   "metadata": {
    "scrolled": true
   },
   "outputs": [
    {
     "data": {
      "text/plain": [
       "WindowsPath('.')"
      ]
     },
     "execution_count": 106,
     "metadata": {},
     "output_type": "execute_result"
    }
   ],
   "source": [
    "Path('.')"
   ]
  },
  {
   "cell_type": "code",
   "execution_count": 107,
   "metadata": {},
   "outputs": [],
   "source": [
    "# Make Dirs\n",
    "from pathlib import Path\n",
    "Path('./scraped').mkdir(parents=True, exist_ok=True) # any missing parents are created \n"
   ]
  },
  {
   "cell_type": "code",
   "execution_count": null,
   "metadata": {},
   "outputs": [],
   "source": [
    "# Dashboard shows by list, Click the first element\n",
    "driver.FindElements(By.ClassName(\"drop\"))[1].Click();"
   ]
  },
  {
   "cell_type": "code",
   "execution_count": null,
   "metadata": {},
   "outputs": [],
   "source": [
    "def scroll_to_end(wd, scroll_point):  \n",
    "        wd.execute_script(f\"window.scrollTo(0, {scroll_point});\")\n",
    "        time.sleep(3)    "
   ]
  },
  {
   "cell_type": "code",
   "execution_count": null,
   "metadata": {},
   "outputs": [],
   "source": [
    "image_urls = set()\n",
    "image_count = 0\n",
    "number_results = 0\n",
    "\n",
    "for i in range(1,20):\n",
    "    scroll_to_end(driver, i*1000)\n",
    "    time.sleep(5)\n",
    "    thumb = wd.find_elements_by_css_selector(\"img._2zEKz\")\n",
    "    time.sleep(5)\n",
    "    for img in thumb:\n",
    "        print(img)\n",
    "        print(img.get_attribute('src'))\n",
    "        image_urls.add(img.get_attribute('src'))\n",
    "        image_count = len(image_urls)\n",
    "        number_results = image_count\n",
    "        time.sleep(.5)\n",
    "    print(f\"Found: {number_results} search results. Extracting links...\")"
   ]
  },
  {
   "cell_type": "code",
   "execution_count": 49,
   "metadata": {},
   "outputs": [
    {
     "ename": "SyntaxError",
     "evalue": "invalid syntax (<ipython-input-49-743b5766320e>, line 4)",
     "output_type": "error",
     "traceback": [
      "\u001b[1;36m  File \u001b[1;32m\"<ipython-input-49-743b5766320e>\"\u001b[1;36m, line \u001b[1;32m4\u001b[0m\n\u001b[1;33m    .send_keys(qanvast_pass)\u001b[0m\n\u001b[1;37m    ^\u001b[0m\n\u001b[1;31mSyntaxError\u001b[0m\u001b[1;31m:\u001b[0m invalid syntax\n"
     ]
    }
   ],
   "source": [
    "x = [driver.find_element_by_tag_name(\"ul\")]\n",
    "\n",
    "\n",
    ".send_keys(qanvast_pass)\n",
    "\n",
    "driver.find_element_by_id (“ID”).send_keys(“password”)\n"
   ]
  },
  {
   "cell_type": "code",
   "execution_count": 65,
   "metadata": {},
   "outputs": [],
   "source": [
    "k = driver.find_element_by_xpath(\"(//li[@class='slide selected'])\")\n",
    "ActionChains(driver).move_to_element(k).perform()\n",
    "k.click()"
   ]
  },
  {
   "cell_type": "code",
   "execution_count": 66,
   "metadata": {},
   "outputs": [],
   "source": [
    "ActionChains(driver).move_to_element(k).perform()\n",
    "k.click()"
   ]
  },
  {
   "cell_type": "code",
   "execution_count": null,
   "metadata": {},
   "outputs": [],
   "source": [
    "# Dashboard shows by list, Click the first element\n",
    "driver.FindElements(By.ClassName(\"drop\"))[1].Click();\n",
    "#link = driver.find_element_by_link_text('Load More Arguments')"
   ]
  },
  {
   "cell_type": "code",
   "execution_count": null,
   "metadata": {},
   "outputs": [],
   "source": [
    "# Login process \n",
    "login = wait.until(presence_of_element_located((By.CLASS_NAME, \"_300aJmN3k9YoDqpg76oEXf\")))\n",
    "login.click()\n",
    "first_result.get_attribute\n"
   ]
  },
  {
   "cell_type": "code",
   "execution_count": 4,
   "metadata": {},
   "outputs": [
    {
     "ename": "WebDriverException",
     "evalue": "Message: 'chromedriver' executable needs to be in PATH. Please see https://sites.google.com/a/chromium.org/chromedriver/home\n",
     "output_type": "error",
     "traceback": [
      "\u001b[1;31m---------------------------------------------------------------------------\u001b[0m",
      "\u001b[1;31mFileNotFoundError\u001b[0m                         Traceback (most recent call last)",
      "\u001b[1;32m~\\Anaconda3\\lib\\site-packages\\selenium\\webdriver\\common\\service.py\u001b[0m in \u001b[0;36mstart\u001b[1;34m(self)\u001b[0m\n\u001b[0;32m     75\u001b[0m                                             \u001b[0mstderr\u001b[0m\u001b[1;33m=\u001b[0m\u001b[0mself\u001b[0m\u001b[1;33m.\u001b[0m\u001b[0mlog_file\u001b[0m\u001b[1;33m,\u001b[0m\u001b[1;33m\u001b[0m\u001b[1;33m\u001b[0m\u001b[0m\n\u001b[1;32m---> 76\u001b[1;33m                                             stdin=PIPE)\n\u001b[0m\u001b[0;32m     77\u001b[0m         \u001b[1;32mexcept\u001b[0m \u001b[0mTypeError\u001b[0m\u001b[1;33m:\u001b[0m\u001b[1;33m\u001b[0m\u001b[1;33m\u001b[0m\u001b[0m\n",
      "\u001b[1;32m~\\Anaconda3\\lib\\subprocess.py\u001b[0m in \u001b[0;36m__init__\u001b[1;34m(self, args, bufsize, executable, stdin, stdout, stderr, preexec_fn, close_fds, shell, cwd, env, universal_newlines, startupinfo, creationflags, restore_signals, start_new_session, pass_fds, encoding, errors)\u001b[0m\n\u001b[0;32m    728\u001b[0m                                 \u001b[0merrread\u001b[0m\u001b[1;33m,\u001b[0m \u001b[0merrwrite\u001b[0m\u001b[1;33m,\u001b[0m\u001b[1;33m\u001b[0m\u001b[1;33m\u001b[0m\u001b[0m\n\u001b[1;32m--> 729\u001b[1;33m                                 restore_signals, start_new_session)\n\u001b[0m\u001b[0;32m    730\u001b[0m         \u001b[1;32mexcept\u001b[0m\u001b[1;33m:\u001b[0m\u001b[1;33m\u001b[0m\u001b[1;33m\u001b[0m\u001b[0m\n",
      "\u001b[1;32m~\\Anaconda3\\lib\\subprocess.py\u001b[0m in \u001b[0;36m_execute_child\u001b[1;34m(self, args, executable, preexec_fn, close_fds, pass_fds, cwd, env, startupinfo, creationflags, shell, p2cread, p2cwrite, c2pread, c2pwrite, errread, errwrite, unused_restore_signals, unused_start_new_session)\u001b[0m\n\u001b[0;32m   1016\u001b[0m                                          \u001b[0mos\u001b[0m\u001b[1;33m.\u001b[0m\u001b[0mfspath\u001b[0m\u001b[1;33m(\u001b[0m\u001b[0mcwd\u001b[0m\u001b[1;33m)\u001b[0m \u001b[1;32mif\u001b[0m \u001b[0mcwd\u001b[0m \u001b[1;32mis\u001b[0m \u001b[1;32mnot\u001b[0m \u001b[1;32mNone\u001b[0m \u001b[1;32melse\u001b[0m \u001b[1;32mNone\u001b[0m\u001b[1;33m,\u001b[0m\u001b[1;33m\u001b[0m\u001b[1;33m\u001b[0m\u001b[0m\n\u001b[1;32m-> 1017\u001b[1;33m                                          startupinfo)\n\u001b[0m\u001b[0;32m   1018\u001b[0m             \u001b[1;32mfinally\u001b[0m\u001b[1;33m:\u001b[0m\u001b[1;33m\u001b[0m\u001b[1;33m\u001b[0m\u001b[0m\n",
      "\u001b[1;31mFileNotFoundError\u001b[0m: [WinError 2] The system cannot find the file specified",
      "\nDuring handling of the above exception, another exception occurred:\n",
      "\u001b[1;31mWebDriverException\u001b[0m                        Traceback (most recent call last)",
      "\u001b[1;32m<ipython-input-4-c1fe66b59360>\u001b[0m in \u001b[0;36m<module>\u001b[1;34m\u001b[0m\n\u001b[0;32m      1\u001b[0m \u001b[1;31m#This example requires Selenium WebDriver 3.13 or newer\u001b[0m\u001b[1;33m\u001b[0m\u001b[1;33m\u001b[0m\u001b[1;33m\u001b[0m\u001b[0m\n\u001b[1;32m----> 2\u001b[1;33m \u001b[1;32mwith\u001b[0m \u001b[0mwebdriver\u001b[0m\u001b[1;33m.\u001b[0m\u001b[0mChrome\u001b[0m\u001b[1;33m(\u001b[0m\u001b[1;33m)\u001b[0m \u001b[1;32mas\u001b[0m \u001b[0mdriver\u001b[0m\u001b[1;33m:\u001b[0m\u001b[1;33m\u001b[0m\u001b[1;33m\u001b[0m\u001b[0m\n\u001b[0m\u001b[0;32m      3\u001b[0m     \u001b[0mwait\u001b[0m \u001b[1;33m=\u001b[0m \u001b[0mWebDriverWait\u001b[0m\u001b[1;33m(\u001b[0m\u001b[0mdriver\u001b[0m\u001b[1;33m,\u001b[0m \u001b[1;36m10\u001b[0m\u001b[1;33m)\u001b[0m\u001b[1;33m\u001b[0m\u001b[1;33m\u001b[0m\u001b[0m\n\u001b[0;32m      4\u001b[0m     \u001b[0mdriver\u001b[0m\u001b[1;33m.\u001b[0m\u001b[0mget\u001b[0m\u001b[1;33m(\u001b[0m\u001b[1;34m\"https://google.com/ncr\"\u001b[0m\u001b[1;33m)\u001b[0m\u001b[1;33m\u001b[0m\u001b[1;33m\u001b[0m\u001b[0m\n\u001b[0;32m      5\u001b[0m     \u001b[0mdriver\u001b[0m\u001b[1;33m.\u001b[0m\u001b[0mfind_element\u001b[0m\u001b[1;33m(\u001b[0m\u001b[0mBy\u001b[0m\u001b[1;33m.\u001b[0m\u001b[0mNAME\u001b[0m\u001b[1;33m,\u001b[0m \u001b[1;34m\"q\"\u001b[0m\u001b[1;33m)\u001b[0m\u001b[1;33m.\u001b[0m\u001b[0msend_keys\u001b[0m\u001b[1;33m(\u001b[0m\u001b[1;34m\"cheese\"\u001b[0m \u001b[1;33m+\u001b[0m \u001b[0mKeys\u001b[0m\u001b[1;33m.\u001b[0m\u001b[0mRETURN\u001b[0m\u001b[1;33m)\u001b[0m\u001b[1;33m\u001b[0m\u001b[1;33m\u001b[0m\u001b[0m\n",
      "\u001b[1;32m~\\Anaconda3\\lib\\site-packages\\selenium\\webdriver\\chrome\\webdriver.py\u001b[0m in \u001b[0;36m__init__\u001b[1;34m(self, executable_path, port, options, service_args, desired_capabilities, service_log_path, chrome_options, keep_alive)\u001b[0m\n\u001b[0;32m     71\u001b[0m             \u001b[0mservice_args\u001b[0m\u001b[1;33m=\u001b[0m\u001b[0mservice_args\u001b[0m\u001b[1;33m,\u001b[0m\u001b[1;33m\u001b[0m\u001b[1;33m\u001b[0m\u001b[0m\n\u001b[0;32m     72\u001b[0m             log_path=service_log_path)\n\u001b[1;32m---> 73\u001b[1;33m         \u001b[0mself\u001b[0m\u001b[1;33m.\u001b[0m\u001b[0mservice\u001b[0m\u001b[1;33m.\u001b[0m\u001b[0mstart\u001b[0m\u001b[1;33m(\u001b[0m\u001b[1;33m)\u001b[0m\u001b[1;33m\u001b[0m\u001b[1;33m\u001b[0m\u001b[0m\n\u001b[0m\u001b[0;32m     74\u001b[0m \u001b[1;33m\u001b[0m\u001b[0m\n\u001b[0;32m     75\u001b[0m         \u001b[1;32mtry\u001b[0m\u001b[1;33m:\u001b[0m\u001b[1;33m\u001b[0m\u001b[1;33m\u001b[0m\u001b[0m\n",
      "\u001b[1;32m~\\Anaconda3\\lib\\site-packages\\selenium\\webdriver\\common\\service.py\u001b[0m in \u001b[0;36mstart\u001b[1;34m(self)\u001b[0m\n\u001b[0;32m     81\u001b[0m                 raise WebDriverException(\n\u001b[0;32m     82\u001b[0m                     \"'%s' executable needs to be in PATH. %s\" % (\n\u001b[1;32m---> 83\u001b[1;33m                         os.path.basename(self.path), self.start_error_message)\n\u001b[0m\u001b[0;32m     84\u001b[0m                 )\n\u001b[0;32m     85\u001b[0m             \u001b[1;32melif\u001b[0m \u001b[0merr\u001b[0m\u001b[1;33m.\u001b[0m\u001b[0merrno\u001b[0m \u001b[1;33m==\u001b[0m \u001b[0merrno\u001b[0m\u001b[1;33m.\u001b[0m\u001b[0mEACCES\u001b[0m\u001b[1;33m:\u001b[0m\u001b[1;33m\u001b[0m\u001b[1;33m\u001b[0m\u001b[0m\n",
      "\u001b[1;31mWebDriverException\u001b[0m: Message: 'chromedriver' executable needs to be in PATH. Please see https://sites.google.com/a/chromium.org/chromedriver/home\n"
     ]
    }
   ],
   "source": [
    "#This example requires Selenium WebDriver 3.13 or newer\n",
    "with webdriver.Chrome() as driver:\n",
    "    wait = WebDriverWait(driver, 10)\n",
    "    driver.get(\"https://google.com/ncr\")\n",
    "    driver.find_element(By.NAME, \"q\").send_keys(\"cheese\" + Keys.RETURN)\n",
    "    first_result = wait.until(presence_of_element_located((By.CSS_SELECTOR, \"h3>div\")))\n",
    "    print(first_result.get_attribute(\"textContent\"))\n",
    "  "
   ]
  }
 ],
 "metadata": {
  "kernelspec": {
   "display_name": "Python 3",
   "language": "python",
   "name": "python3"
  },
  "language_info": {
   "codemirror_mode": {
    "name": "ipython",
    "version": 3
   },
   "file_extension": ".py",
   "mimetype": "text/x-python",
   "name": "python",
   "nbconvert_exporter": "python",
   "pygments_lexer": "ipython3",
   "version": "3.9.6"
  }
 },
 "nbformat": 4,
 "nbformat_minor": 4
}
